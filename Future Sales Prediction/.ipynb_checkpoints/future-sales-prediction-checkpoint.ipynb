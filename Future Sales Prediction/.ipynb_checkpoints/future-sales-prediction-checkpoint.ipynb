{
 "cells": [
  {
   "cell_type": "code",
   "execution_count": 101,
   "metadata": {
    "_cell_guid": "79c7e3d0-c299-4dcb-8224-4455121ee9b0",
    "_uuid": "d629ff2d2480ee46fbb7e2d37f6b5fab8052498a",
    "execution": {
     "iopub.execute_input": "2022-10-14T20:37:43.925102Z",
     "iopub.status.busy": "2022-10-14T20:37:43.924060Z",
     "iopub.status.idle": "2022-10-14T20:37:43.931799Z",
     "shell.execute_reply": "2022-10-14T20:37:43.930709Z",
     "shell.execute_reply.started": "2022-10-14T20:37:43.925057Z"
    },
    "id": "m5K5ZENiU3TC"
   },
   "outputs": [],
   "source": [
    "import numpy as np # linear algebra\n",
    "import pandas as pd # data processing, CSV file I/O (e.g. pd.read_csv)\n",
    "import os\n",
    "import tensorflow as tf \n",
    "import matplotlib.pyplot as plt\n",
    "%matplotlib inline"
   ]
  },
  {
   "cell_type": "code",
   "execution_count": 102,
   "metadata": {
    "_uuid": "f63e065519f029cfc2c0e9580fb2e95a146ef0d5",
    "execution": {
     "iopub.execute_input": "2022-10-14T20:37:45.960237Z",
     "iopub.status.busy": "2022-10-14T20:37:45.959128Z",
     "iopub.status.idle": "2022-10-14T20:37:47.157389Z",
     "shell.execute_reply": "2022-10-14T20:37:47.156426Z",
     "shell.execute_reply.started": "2022-10-14T20:37:45.960158Z"
    },
    "id": "b_vMocjiU3TL"
   },
   "outputs": [],
   "source": [
    "#loading data \n",
    "os.listdir('../input/competitive-data-science-predict-future-sales')\n",
    "sales_data = pd.read_csv('../input/competitive-data-science-predict-future-sales/sales_train.csv')\n",
    "item_cat = pd.read_csv('../input/competitive-data-science-predict-future-sales/item_categories.csv')\n",
    "items = pd.read_csv('../input/competitive-data-science-predict-future-sales/items.csv')\n",
    "shops = pd.read_csv('../input/competitive-data-science-predict-future-sales/shops.csv')\n",
    "sample_submission = pd.read_csv('../input/competitive-data-science-predict-future-sales/sample_submission.csv')\n",
    "test_data = pd.read_csv('../input/competitive-data-science-predict-future-sales/test.csv')\n"
   ]
  },
  {
   "cell_type": "code",
   "execution_count": 103,
   "metadata": {
    "colab": {
     "base_uri": "https://localhost:8080/",
     "height": 136
    },
    "execution": {
     "iopub.execute_input": "2022-10-14T20:37:48.223857Z",
     "iopub.status.busy": "2022-10-14T20:37:48.222928Z",
     "iopub.status.idle": "2022-10-14T20:37:48.237744Z",
     "shell.execute_reply": "2022-10-14T20:37:48.236389Z",
     "shell.execute_reply.started": "2022-10-14T20:37:48.223823Z"
    },
    "id": "cwV3adZWcbCu",
    "outputId": "9c0eafa2-51ce-4c74-cc1a-f16661f78bd2"
   },
   "outputs": [
    {
     "data": {
      "text/html": [
       "<div>\n",
       "<style scoped>\n",
       "    .dataframe tbody tr th:only-of-type {\n",
       "        vertical-align: middle;\n",
       "    }\n",
       "\n",
       "    .dataframe tbody tr th {\n",
       "        vertical-align: top;\n",
       "    }\n",
       "\n",
       "    .dataframe thead th {\n",
       "        text-align: right;\n",
       "    }\n",
       "</style>\n",
       "<table border=\"1\" class=\"dataframe\">\n",
       "  <thead>\n",
       "    <tr style=\"text-align: right;\">\n",
       "      <th></th>\n",
       "      <th>date</th>\n",
       "      <th>date_block_num</th>\n",
       "      <th>shop_id</th>\n",
       "      <th>item_id</th>\n",
       "      <th>item_price</th>\n",
       "      <th>item_cnt_day</th>\n",
       "    </tr>\n",
       "  </thead>\n",
       "  <tbody>\n",
       "    <tr>\n",
       "      <th>0</th>\n",
       "      <td>02.01.2013</td>\n",
       "      <td>0</td>\n",
       "      <td>59</td>\n",
       "      <td>22154</td>\n",
       "      <td>999.0</td>\n",
       "      <td>1.0</td>\n",
       "    </tr>\n",
       "    <tr>\n",
       "      <th>1</th>\n",
       "      <td>03.01.2013</td>\n",
       "      <td>0</td>\n",
       "      <td>25</td>\n",
       "      <td>2552</td>\n",
       "      <td>899.0</td>\n",
       "      <td>1.0</td>\n",
       "    </tr>\n",
       "    <tr>\n",
       "      <th>2</th>\n",
       "      <td>05.01.2013</td>\n",
       "      <td>0</td>\n",
       "      <td>25</td>\n",
       "      <td>2552</td>\n",
       "      <td>899.0</td>\n",
       "      <td>-1.0</td>\n",
       "    </tr>\n",
       "  </tbody>\n",
       "</table>\n",
       "</div>"
      ],
      "text/plain": [
       "         date  date_block_num  shop_id  item_id  item_price  item_cnt_day\n",
       "0  02.01.2013               0       59    22154       999.0           1.0\n",
       "1  03.01.2013               0       25     2552       899.0           1.0\n",
       "2  05.01.2013               0       25     2552       899.0          -1.0"
      ]
     },
     "execution_count": 103,
     "metadata": {},
     "output_type": "execute_result"
    }
   ],
   "source": [
    "sales_data.head(3)"
   ]
  },
  {
   "cell_type": "code",
   "execution_count": 104,
   "metadata": {
    "colab": {
     "base_uri": "https://localhost:8080/",
     "height": 136
    },
    "execution": {
     "iopub.execute_input": "2022-10-14T20:37:50.744212Z",
     "iopub.status.busy": "2022-10-14T20:37:50.742998Z",
     "iopub.status.idle": "2022-10-14T20:37:50.753505Z",
     "shell.execute_reply": "2022-10-14T20:37:50.752409Z",
     "shell.execute_reply.started": "2022-10-14T20:37:50.744137Z"
    },
    "id": "RKxUSFfTcedO",
    "outputId": "83f800b1-c484-419c-fdee-eaf399012478"
   },
   "outputs": [
    {
     "data": {
      "text/html": [
       "<div>\n",
       "<style scoped>\n",
       "    .dataframe tbody tr th:only-of-type {\n",
       "        vertical-align: middle;\n",
       "    }\n",
       "\n",
       "    .dataframe tbody tr th {\n",
       "        vertical-align: top;\n",
       "    }\n",
       "\n",
       "    .dataframe thead th {\n",
       "        text-align: right;\n",
       "    }\n",
       "</style>\n",
       "<table border=\"1\" class=\"dataframe\">\n",
       "  <thead>\n",
       "    <tr style=\"text-align: right;\">\n",
       "      <th></th>\n",
       "      <th>ID</th>\n",
       "      <th>shop_id</th>\n",
       "      <th>item_id</th>\n",
       "    </tr>\n",
       "  </thead>\n",
       "  <tbody>\n",
       "    <tr>\n",
       "      <th>0</th>\n",
       "      <td>0</td>\n",
       "      <td>5</td>\n",
       "      <td>5037</td>\n",
       "    </tr>\n",
       "    <tr>\n",
       "      <th>1</th>\n",
       "      <td>1</td>\n",
       "      <td>5</td>\n",
       "      <td>5320</td>\n",
       "    </tr>\n",
       "    <tr>\n",
       "      <th>2</th>\n",
       "      <td>2</td>\n",
       "      <td>5</td>\n",
       "      <td>5233</td>\n",
       "    </tr>\n",
       "  </tbody>\n",
       "</table>\n",
       "</div>"
      ],
      "text/plain": [
       "   ID  shop_id  item_id\n",
       "0   0        5     5037\n",
       "1   1        5     5320\n",
       "2   2        5     5233"
      ]
     },
     "execution_count": 104,
     "metadata": {},
     "output_type": "execute_result"
    }
   ],
   "source": [
    "test_data.head(3)"
   ]
  },
  {
   "cell_type": "code",
   "execution_count": 105,
   "metadata": {
    "colab": {
     "base_uri": "https://localhost:8080/",
     "height": 136
    },
    "execution": {
     "iopub.execute_input": "2022-10-14T20:37:53.042873Z",
     "iopub.status.busy": "2022-10-14T20:37:53.042436Z",
     "iopub.status.idle": "2022-10-14T20:37:53.060945Z",
     "shell.execute_reply": "2022-10-14T20:37:53.060046Z",
     "shell.execute_reply.started": "2022-10-14T20:37:53.042827Z"
    },
    "id": "DxuKV_dHcmr9",
    "outputId": "24563624-ec0d-4204-f9ea-47cfe0d04bdc"
   },
   "outputs": [
    {
     "data": {
      "text/html": [
       "<div>\n",
       "<style scoped>\n",
       "    .dataframe tbody tr th:only-of-type {\n",
       "        vertical-align: middle;\n",
       "    }\n",
       "\n",
       "    .dataframe tbody tr th {\n",
       "        vertical-align: top;\n",
       "    }\n",
       "\n",
       "    .dataframe thead th {\n",
       "        text-align: right;\n",
       "    }\n",
       "</style>\n",
       "<table border=\"1\" class=\"dataframe\">\n",
       "  <thead>\n",
       "    <tr style=\"text-align: right;\">\n",
       "      <th></th>\n",
       "      <th>ID</th>\n",
       "      <th>item_cnt_month</th>\n",
       "    </tr>\n",
       "  </thead>\n",
       "  <tbody>\n",
       "    <tr>\n",
       "      <th>0</th>\n",
       "      <td>0</td>\n",
       "      <td>0.5</td>\n",
       "    </tr>\n",
       "    <tr>\n",
       "      <th>1</th>\n",
       "      <td>1</td>\n",
       "      <td>0.5</td>\n",
       "    </tr>\n",
       "    <tr>\n",
       "      <th>2</th>\n",
       "      <td>2</td>\n",
       "      <td>0.5</td>\n",
       "    </tr>\n",
       "  </tbody>\n",
       "</table>\n",
       "</div>"
      ],
      "text/plain": [
       "   ID  item_cnt_month\n",
       "0   0             0.5\n",
       "1   1             0.5\n",
       "2   2             0.5"
      ]
     },
     "execution_count": 105,
     "metadata": {},
     "output_type": "execute_result"
    }
   ],
   "source": [
    "sample_submission.head(3)"
   ]
  },
  {
   "cell_type": "code",
   "execution_count": 106,
   "metadata": {
    "_uuid": "4f01c334c611aa85639105835ae6c12968e5f9ab",
    "execution": {
     "iopub.execute_input": "2022-10-14T20:37:55.119571Z",
     "iopub.status.busy": "2022-10-14T20:37:55.119215Z",
     "iopub.status.idle": "2022-10-14T20:37:55.125869Z",
     "shell.execute_reply": "2022-10-14T20:37:55.124740Z",
     "shell.execute_reply.started": "2022-10-14T20:37:55.119542Z"
    },
    "id": "JfNNsZmNU3TT"
   },
   "outputs": [],
   "source": [
    "def basic_eda(df):\n",
    "    print(\"----------TOP 5 RECORDS--------\")\n",
    "    print(df.head(5))\n",
    "    print(\"----------INFO-----------------\")\n",
    "    print(df.info())\n",
    "    print(\"----------Describe-------------\")\n",
    "    print(df.describe())\n",
    "    print(\"----------Columns--------------\")\n",
    "    print(df.columns)\n",
    "    print(\"----------Data Types-----------\")\n",
    "    print(df.dtypes)\n",
    "    print(\"-------Missing Values----------\")\n",
    "    print(df.isnull().sum())\n",
    "    print(\"-------NULL values-------------\")\n",
    "    print(df.isna().sum())\n",
    "    print(\"-----Shape Of Data-------------\")\n",
    "    print(df.shape)\n",
    "    \n",
    "    "
   ]
  },
  {
   "cell_type": "code",
   "execution_count": 107,
   "metadata": {
    "_uuid": "40841bde3a83799519bf695f361a62fe03d9e4f1",
    "colab": {
     "base_uri": "https://localhost:8080/",
     "height": 1000
    },
    "execution": {
     "iopub.execute_input": "2022-10-14T20:37:57.648603Z",
     "iopub.status.busy": "2022-10-14T20:37:57.648240Z",
     "iopub.status.idle": "2022-10-14T20:37:58.347530Z",
     "shell.execute_reply": "2022-10-14T20:37:58.346448Z",
     "shell.execute_reply.started": "2022-10-14T20:37:57.648570Z"
    },
    "id": "_Mn_AshwU3Ta",
    "outputId": "477cf5d1-8d4b-4c45-d810-9882447bd18a"
   },
   "outputs": [
    {
     "name": "stdout",
     "output_type": "stream",
     "text": [
      "=============================Sales Data=============================\n",
      "----------TOP 5 RECORDS--------\n",
      "         date  date_block_num  shop_id  item_id  item_price  item_cnt_day\n",
      "0  02.01.2013               0       59    22154      999.00           1.0\n",
      "1  03.01.2013               0       25     2552      899.00           1.0\n",
      "2  05.01.2013               0       25     2552      899.00          -1.0\n",
      "3  06.01.2013               0       25     2554     1709.05           1.0\n",
      "4  15.01.2013               0       25     2555     1099.00           1.0\n",
      "----------INFO-----------------\n",
      "<class 'pandas.core.frame.DataFrame'>\n",
      "RangeIndex: 2935849 entries, 0 to 2935848\n",
      "Data columns (total 6 columns):\n",
      " #   Column          Dtype  \n",
      "---  ------          -----  \n",
      " 0   date            object \n",
      " 1   date_block_num  int64  \n",
      " 2   shop_id         int64  \n",
      " 3   item_id         int64  \n",
      " 4   item_price      float64\n",
      " 5   item_cnt_day    float64\n",
      "dtypes: float64(2), int64(3), object(1)\n",
      "memory usage: 134.4+ MB\n",
      "None\n",
      "----------Describe-------------\n",
      "       date_block_num       shop_id       item_id    item_price  item_cnt_day\n",
      "count    2.935849e+06  2.935849e+06  2.935849e+06  2.935849e+06  2.935849e+06\n",
      "mean     1.456991e+01  3.300173e+01  1.019723e+04  8.908532e+02  1.242641e+00\n",
      "std      9.422988e+00  1.622697e+01  6.324297e+03  1.729800e+03  2.618834e+00\n",
      "min      0.000000e+00  0.000000e+00  0.000000e+00 -1.000000e+00 -2.200000e+01\n",
      "25%      7.000000e+00  2.200000e+01  4.476000e+03  2.490000e+02  1.000000e+00\n",
      "50%      1.400000e+01  3.100000e+01  9.343000e+03  3.990000e+02  1.000000e+00\n",
      "75%      2.300000e+01  4.700000e+01  1.568400e+04  9.990000e+02  1.000000e+00\n",
      "max      3.300000e+01  5.900000e+01  2.216900e+04  3.079800e+05  2.169000e+03\n",
      "----------Columns--------------\n",
      "Index(['date', 'date_block_num', 'shop_id', 'item_id', 'item_price',\n",
      "       'item_cnt_day'],\n",
      "      dtype='object')\n",
      "----------Data Types-----------\n",
      "date               object\n",
      "date_block_num      int64\n",
      "shop_id             int64\n",
      "item_id             int64\n",
      "item_price        float64\n",
      "item_cnt_day      float64\n",
      "dtype: object\n",
      "-------Missing Values----------\n",
      "date              0\n",
      "date_block_num    0\n",
      "shop_id           0\n",
      "item_id           0\n",
      "item_price        0\n",
      "item_cnt_day      0\n",
      "dtype: int64\n",
      "-------NULL values-------------\n",
      "date              0\n",
      "date_block_num    0\n",
      "shop_id           0\n",
      "item_id           0\n",
      "item_price        0\n",
      "item_cnt_day      0\n",
      "dtype: int64\n",
      "-----Shape Of Data-------------\n",
      "(2935849, 6)\n",
      "=============================Test data=============================\n",
      "----------TOP 5 RECORDS--------\n",
      "   ID  shop_id  item_id\n",
      "0   0        5     5037\n",
      "1   1        5     5320\n",
      "2   2        5     5233\n",
      "3   3        5     5232\n",
      "4   4        5     5268\n",
      "----------INFO-----------------\n",
      "<class 'pandas.core.frame.DataFrame'>\n",
      "RangeIndex: 214200 entries, 0 to 214199\n",
      "Data columns (total 3 columns):\n",
      " #   Column   Non-Null Count   Dtype\n",
      "---  ------   --------------   -----\n",
      " 0   ID       214200 non-null  int64\n",
      " 1   shop_id  214200 non-null  int64\n",
      " 2   item_id  214200 non-null  int64\n",
      "dtypes: int64(3)\n",
      "memory usage: 4.9 MB\n",
      "None\n",
      "----------Describe-------------\n",
      "                  ID        shop_id        item_id\n",
      "count  214200.000000  214200.000000  214200.000000\n",
      "mean   107099.500000      31.642857   11019.398627\n",
      "std     61834.358168      17.561933    6252.644590\n",
      "min         0.000000       2.000000      30.000000\n",
      "25%     53549.750000      16.000000    5381.500000\n",
      "50%    107099.500000      34.500000   11203.000000\n",
      "75%    160649.250000      47.000000   16071.500000\n",
      "max    214199.000000      59.000000   22167.000000\n",
      "----------Columns--------------\n",
      "Index(['ID', 'shop_id', 'item_id'], dtype='object')\n",
      "----------Data Types-----------\n",
      "ID         int64\n",
      "shop_id    int64\n",
      "item_id    int64\n",
      "dtype: object\n",
      "-------Missing Values----------\n",
      "ID         0\n",
      "shop_id    0\n",
      "item_id    0\n",
      "dtype: int64\n",
      "-------NULL values-------------\n",
      "ID         0\n",
      "shop_id    0\n",
      "item_id    0\n",
      "dtype: int64\n",
      "-----Shape Of Data-------------\n",
      "(214200, 3)\n",
      "=============================Item Categories=============================\n",
      "----------TOP 5 RECORDS--------\n",
      "        item_category_name  item_category_id\n",
      "0  PC - Гарнитуры/Наушники                 0\n",
      "1         Аксессуары - PS2                 1\n",
      "2         Аксессуары - PS3                 2\n",
      "3         Аксессуары - PS4                 3\n",
      "4         Аксессуары - PSP                 4\n",
      "----------INFO-----------------\n",
      "<class 'pandas.core.frame.DataFrame'>\n",
      "RangeIndex: 84 entries, 0 to 83\n",
      "Data columns (total 2 columns):\n",
      " #   Column              Non-Null Count  Dtype \n",
      "---  ------              --------------  ----- \n",
      " 0   item_category_name  84 non-null     object\n",
      " 1   item_category_id    84 non-null     int64 \n",
      "dtypes: int64(1), object(1)\n",
      "memory usage: 1.4+ KB\n",
      "None\n",
      "----------Describe-------------\n",
      "       item_category_id\n",
      "count         84.000000\n",
      "mean          41.500000\n",
      "std           24.392622\n",
      "min            0.000000\n",
      "25%           20.750000\n",
      "50%           41.500000\n",
      "75%           62.250000\n",
      "max           83.000000\n",
      "----------Columns--------------\n",
      "Index(['item_category_name', 'item_category_id'], dtype='object')\n",
      "----------Data Types-----------\n",
      "item_category_name    object\n",
      "item_category_id       int64\n",
      "dtype: object\n",
      "-------Missing Values----------\n",
      "item_category_name    0\n",
      "item_category_id      0\n",
      "dtype: int64\n",
      "-------NULL values-------------\n",
      "item_category_name    0\n",
      "item_category_id      0\n",
      "dtype: int64\n",
      "-----Shape Of Data-------------\n",
      "(84, 2)\n",
      "=============================Items=============================\n",
      "----------TOP 5 RECORDS--------\n",
      "                                           item_name  item_id  \\\n",
      "0          ! ВО ВЛАСТИ НАВАЖДЕНИЯ (ПЛАСТ.)         D        0   \n",
      "1  !ABBYY FineReader 12 Professional Edition Full...        1   \n",
      "2      ***В ЛУЧАХ СЛАВЫ   (UNV)                    D        2   \n",
      "3    ***ГОЛУБАЯ ВОЛНА  (Univ)                      D        3   \n",
      "4        ***КОРОБКА (СТЕКЛО)                       D        4   \n",
      "\n",
      "   item_category_id  \n",
      "0                40  \n",
      "1                76  \n",
      "2                40  \n",
      "3                40  \n",
      "4                40  \n",
      "----------INFO-----------------\n",
      "<class 'pandas.core.frame.DataFrame'>\n",
      "RangeIndex: 22170 entries, 0 to 22169\n",
      "Data columns (total 3 columns):\n",
      " #   Column            Non-Null Count  Dtype \n",
      "---  ------            --------------  ----- \n",
      " 0   item_name         22170 non-null  object\n",
      " 1   item_id           22170 non-null  int64 \n",
      " 2   item_category_id  22170 non-null  int64 \n",
      "dtypes: int64(2), object(1)\n",
      "memory usage: 519.7+ KB\n",
      "None\n",
      "----------Describe-------------\n",
      "           item_id  item_category_id\n",
      "count  22170.00000      22170.000000\n",
      "mean   11084.50000         46.290753\n",
      "std     6400.07207         15.941486\n",
      "min        0.00000          0.000000\n",
      "25%     5542.25000         37.000000\n",
      "50%    11084.50000         40.000000\n",
      "75%    16626.75000         58.000000\n",
      "max    22169.00000         83.000000\n",
      "----------Columns--------------\n",
      "Index(['item_name', 'item_id', 'item_category_id'], dtype='object')\n",
      "----------Data Types-----------\n",
      "item_name           object\n",
      "item_id              int64\n",
      "item_category_id     int64\n",
      "dtype: object\n",
      "-------Missing Values----------\n",
      "item_name           0\n",
      "item_id             0\n",
      "item_category_id    0\n",
      "dtype: int64\n",
      "-------NULL values-------------\n",
      "item_name           0\n",
      "item_id             0\n",
      "item_category_id    0\n",
      "dtype: int64\n",
      "-----Shape Of Data-------------\n",
      "(22170, 3)\n",
      "=============================Shops=============================\n",
      "----------TOP 5 RECORDS--------\n",
      "                        shop_name  shop_id\n",
      "0   !Якутск Орджоникидзе, 56 фран        0\n",
      "1   !Якутск ТЦ \"Центральный\" фран        1\n",
      "2                Адыгея ТЦ \"Мега\"        2\n",
      "3  Балашиха ТРК \"Октябрь-Киномир\"        3\n",
      "4        Волжский ТЦ \"Волга Молл\"        4\n",
      "----------INFO-----------------\n",
      "<class 'pandas.core.frame.DataFrame'>\n",
      "RangeIndex: 60 entries, 0 to 59\n",
      "Data columns (total 2 columns):\n",
      " #   Column     Non-Null Count  Dtype \n",
      "---  ------     --------------  ----- \n",
      " 0   shop_name  60 non-null     object\n",
      " 1   shop_id    60 non-null     int64 \n",
      "dtypes: int64(1), object(1)\n",
      "memory usage: 1.1+ KB\n",
      "None\n",
      "----------Describe-------------\n",
      "         shop_id\n",
      "count  60.000000\n",
      "mean   29.500000\n",
      "std    17.464249\n",
      "min     0.000000\n",
      "25%    14.750000\n",
      "50%    29.500000\n",
      "75%    44.250000\n",
      "max    59.000000\n",
      "----------Columns--------------\n",
      "Index(['shop_name', 'shop_id'], dtype='object')\n",
      "----------Data Types-----------\n",
      "shop_name    object\n",
      "shop_id       int64\n",
      "dtype: object\n",
      "-------Missing Values----------\n",
      "shop_name    0\n",
      "shop_id      0\n",
      "dtype: int64\n",
      "-------NULL values-------------\n",
      "shop_name    0\n",
      "shop_id      0\n",
      "dtype: int64\n",
      "-----Shape Of Data-------------\n",
      "(60, 2)\n",
      "=============================Sample Submission=============================\n",
      "----------TOP 5 RECORDS--------\n",
      "   ID  item_cnt_month\n",
      "0   0             0.5\n",
      "1   1             0.5\n",
      "2   2             0.5\n",
      "3   3             0.5\n",
      "4   4             0.5\n",
      "----------INFO-----------------\n",
      "<class 'pandas.core.frame.DataFrame'>\n",
      "RangeIndex: 214200 entries, 0 to 214199\n",
      "Data columns (total 2 columns):\n",
      " #   Column          Non-Null Count   Dtype  \n",
      "---  ------          --------------   -----  \n",
      " 0   ID              214200 non-null  int64  \n",
      " 1   item_cnt_month  214200 non-null  float64\n",
      "dtypes: float64(1), int64(1)\n",
      "memory usage: 3.3 MB\n",
      "None\n",
      "----------Describe-------------\n",
      "                  ID  item_cnt_month\n",
      "count  214200.000000        214200.0\n",
      "mean   107099.500000             0.5\n",
      "std     61834.358168             0.0\n",
      "min         0.000000             0.5\n",
      "25%     53549.750000             0.5\n",
      "50%    107099.500000             0.5\n",
      "75%    160649.250000             0.5\n",
      "max    214199.000000             0.5\n",
      "----------Columns--------------\n",
      "Index(['ID', 'item_cnt_month'], dtype='object')\n",
      "----------Data Types-----------\n",
      "ID                  int64\n",
      "item_cnt_month    float64\n",
      "dtype: object\n",
      "-------Missing Values----------\n",
      "ID                0\n",
      "item_cnt_month    0\n",
      "dtype: int64\n",
      "-------NULL values-------------\n",
      "ID                0\n",
      "item_cnt_month    0\n",
      "dtype: int64\n",
      "-----Shape Of Data-------------\n",
      "(214200, 2)\n"
     ]
    }
   ],
   "source": [
    "#Litle bit of exploration of data\n",
    "\n",
    "print(\"=============================Sales Data=============================\")\n",
    "basic_eda(sales_data)\n",
    "print(\"=============================Test data=============================\")\n",
    "basic_eda(test_data)\n",
    "print(\"=============================Item Categories=============================\")\n",
    "basic_eda(item_cat)\n",
    "print(\"=============================Items=============================\")\n",
    "basic_eda(items)\n",
    "print(\"=============================Shops=============================\")\n",
    "basic_eda(shops)\n",
    "print(\"=============================Sample Submission=============================\")\n",
    "basic_eda(sample_submission)\n",
    "\n"
   ]
  },
  {
   "cell_type": "code",
   "execution_count": 108,
   "metadata": {
    "_uuid": "aa425faed80de06ea817c0bab179e47e33a1aa57",
    "execution": {
     "iopub.execute_input": "2022-10-14T20:38:04.272870Z",
     "iopub.status.busy": "2022-10-14T20:38:04.272505Z",
     "iopub.status.idle": "2022-10-14T20:38:04.592999Z",
     "shell.execute_reply": "2022-10-14T20:38:04.592041Z",
     "shell.execute_reply.started": "2022-10-14T20:38:04.272838Z"
    },
    "id": "6GBB1wNrU3Tl"
   },
   "outputs": [],
   "source": [
    "#we can see that 'date' column in sales_data is an object but if we want to manipulate \n",
    "#it or want to work on it someway then we have convert it on datetime format\n",
    "sales_data['date'] = pd.to_datetime(sales_data['date'],format = '%d.%m.%Y')"
   ]
  },
  {
   "cell_type": "code",
   "execution_count": 109,
   "metadata": {
    "colab": {
     "base_uri": "https://localhost:8080/",
     "height": 136
    },
    "execution": {
     "iopub.execute_input": "2022-10-14T20:38:06.283413Z",
     "iopub.status.busy": "2022-10-14T20:38:06.283051Z",
     "iopub.status.idle": "2022-10-14T20:38:06.297890Z",
     "shell.execute_reply": "2022-10-14T20:38:06.296830Z",
     "shell.execute_reply.started": "2022-10-14T20:38:06.283383Z"
    },
    "id": "XOfGqG9hZjTL",
    "outputId": "c26d40ff-c302-4fb3-d608-6f8052750cd4"
   },
   "outputs": [
    {
     "data": {
      "text/html": [
       "<div>\n",
       "<style scoped>\n",
       "    .dataframe tbody tr th:only-of-type {\n",
       "        vertical-align: middle;\n",
       "    }\n",
       "\n",
       "    .dataframe tbody tr th {\n",
       "        vertical-align: top;\n",
       "    }\n",
       "\n",
       "    .dataframe thead th {\n",
       "        text-align: right;\n",
       "    }\n",
       "</style>\n",
       "<table border=\"1\" class=\"dataframe\">\n",
       "  <thead>\n",
       "    <tr style=\"text-align: right;\">\n",
       "      <th></th>\n",
       "      <th>date</th>\n",
       "      <th>date_block_num</th>\n",
       "      <th>shop_id</th>\n",
       "      <th>item_id</th>\n",
       "      <th>item_price</th>\n",
       "      <th>item_cnt_day</th>\n",
       "    </tr>\n",
       "  </thead>\n",
       "  <tbody>\n",
       "    <tr>\n",
       "      <th>0</th>\n",
       "      <td>2013-01-02</td>\n",
       "      <td>0</td>\n",
       "      <td>59</td>\n",
       "      <td>22154</td>\n",
       "      <td>999.0</td>\n",
       "      <td>1.0</td>\n",
       "    </tr>\n",
       "    <tr>\n",
       "      <th>1</th>\n",
       "      <td>2013-01-03</td>\n",
       "      <td>0</td>\n",
       "      <td>25</td>\n",
       "      <td>2552</td>\n",
       "      <td>899.0</td>\n",
       "      <td>1.0</td>\n",
       "    </tr>\n",
       "    <tr>\n",
       "      <th>2</th>\n",
       "      <td>2013-01-05</td>\n",
       "      <td>0</td>\n",
       "      <td>25</td>\n",
       "      <td>2552</td>\n",
       "      <td>899.0</td>\n",
       "      <td>-1.0</td>\n",
       "    </tr>\n",
       "  </tbody>\n",
       "</table>\n",
       "</div>"
      ],
      "text/plain": [
       "        date  date_block_num  shop_id  item_id  item_price  item_cnt_day\n",
       "0 2013-01-02               0       59    22154       999.0           1.0\n",
       "1 2013-01-03               0       25     2552       899.0           1.0\n",
       "2 2013-01-05               0       25     2552       899.0          -1.0"
      ]
     },
     "execution_count": 109,
     "metadata": {},
     "output_type": "execute_result"
    }
   ],
   "source": [
    "sales_data.head(3)"
   ]
  },
  {
   "cell_type": "code",
   "execution_count": 110,
   "metadata": {
    "_uuid": "0f919596e10dd4adafb8825f2c0d42b8c8ddd07a",
    "execution": {
     "iopub.execute_input": "2022-10-14T20:38:10.308644Z",
     "iopub.status.busy": "2022-10-14T20:38:10.308278Z",
     "iopub.status.idle": "2022-10-14T20:38:12.499503Z",
     "shell.execute_reply": "2022-10-14T20:38:12.498117Z",
     "shell.execute_reply.started": "2022-10-14T20:38:10.308614Z"
    },
    "id": "jyrPUzD_U3Ts"
   },
   "outputs": [],
   "source": [
    "#now we will create a pivot tabel by going so we get our data in desired form \n",
    "#we want get total count value of an item over the whole month for a shop \n",
    "# That why we made shop_id and item_id our indices and date_block_num our column \n",
    "# the value we want is item_cnt_day and used sum as aggregating function \n",
    "dataset = sales_data.pivot_table(index = ['shop_id','item_id'],values = ['item_cnt_day'],columns = ['date_block_num'],fill_value = 0,aggfunc='sum')"
   ]
  },
  {
   "cell_type": "code",
   "execution_count": 111,
   "metadata": {
    "colab": {
     "base_uri": "https://localhost:8080/",
     "height": 195
    },
    "execution": {
     "iopub.execute_input": "2022-10-14T20:38:16.842056Z",
     "iopub.status.busy": "2022-10-14T20:38:16.841053Z",
     "iopub.status.idle": "2022-10-14T20:38:16.867991Z",
     "shell.execute_reply": "2022-10-14T20:38:16.866205Z",
     "shell.execute_reply.started": "2022-10-14T20:38:16.842010Z"
    },
    "id": "bHH2m0GVZtrw",
    "outputId": "90ef3a12-88f8-440b-a4d1-b9d94eeed102"
   },
   "outputs": [
    {
     "data": {
      "text/html": [
       "<div>\n",
       "<style scoped>\n",
       "    .dataframe tbody tr th:only-of-type {\n",
       "        vertical-align: middle;\n",
       "    }\n",
       "\n",
       "    .dataframe tbody tr th {\n",
       "        vertical-align: top;\n",
       "    }\n",
       "\n",
       "    .dataframe thead tr th {\n",
       "        text-align: left;\n",
       "    }\n",
       "\n",
       "    .dataframe thead tr:last-of-type th {\n",
       "        text-align: right;\n",
       "    }\n",
       "</style>\n",
       "<table border=\"1\" class=\"dataframe\">\n",
       "  <thead>\n",
       "    <tr>\n",
       "      <th></th>\n",
       "      <th></th>\n",
       "      <th colspan=\"21\" halign=\"left\">item_cnt_day</th>\n",
       "    </tr>\n",
       "    <tr>\n",
       "      <th></th>\n",
       "      <th>date_block_num</th>\n",
       "      <th>0</th>\n",
       "      <th>1</th>\n",
       "      <th>2</th>\n",
       "      <th>3</th>\n",
       "      <th>4</th>\n",
       "      <th>5</th>\n",
       "      <th>6</th>\n",
       "      <th>7</th>\n",
       "      <th>8</th>\n",
       "      <th>9</th>\n",
       "      <th>...</th>\n",
       "      <th>24</th>\n",
       "      <th>25</th>\n",
       "      <th>26</th>\n",
       "      <th>27</th>\n",
       "      <th>28</th>\n",
       "      <th>29</th>\n",
       "      <th>30</th>\n",
       "      <th>31</th>\n",
       "      <th>32</th>\n",
       "      <th>33</th>\n",
       "    </tr>\n",
       "    <tr>\n",
       "      <th>shop_id</th>\n",
       "      <th>item_id</th>\n",
       "      <th></th>\n",
       "      <th></th>\n",
       "      <th></th>\n",
       "      <th></th>\n",
       "      <th></th>\n",
       "      <th></th>\n",
       "      <th></th>\n",
       "      <th></th>\n",
       "      <th></th>\n",
       "      <th></th>\n",
       "      <th></th>\n",
       "      <th></th>\n",
       "      <th></th>\n",
       "      <th></th>\n",
       "      <th></th>\n",
       "      <th></th>\n",
       "      <th></th>\n",
       "      <th></th>\n",
       "      <th></th>\n",
       "      <th></th>\n",
       "      <th></th>\n",
       "    </tr>\n",
       "  </thead>\n",
       "  <tbody>\n",
       "    <tr>\n",
       "      <th rowspan=\"3\" valign=\"top\">0</th>\n",
       "      <th>30</th>\n",
       "      <td>0</td>\n",
       "      <td>31</td>\n",
       "      <td>0</td>\n",
       "      <td>0</td>\n",
       "      <td>0</td>\n",
       "      <td>0</td>\n",
       "      <td>0</td>\n",
       "      <td>0</td>\n",
       "      <td>0</td>\n",
       "      <td>0</td>\n",
       "      <td>...</td>\n",
       "      <td>0</td>\n",
       "      <td>0</td>\n",
       "      <td>0</td>\n",
       "      <td>0</td>\n",
       "      <td>0</td>\n",
       "      <td>0</td>\n",
       "      <td>0</td>\n",
       "      <td>0</td>\n",
       "      <td>0</td>\n",
       "      <td>0</td>\n",
       "    </tr>\n",
       "    <tr>\n",
       "      <th>31</th>\n",
       "      <td>0</td>\n",
       "      <td>11</td>\n",
       "      <td>0</td>\n",
       "      <td>0</td>\n",
       "      <td>0</td>\n",
       "      <td>0</td>\n",
       "      <td>0</td>\n",
       "      <td>0</td>\n",
       "      <td>0</td>\n",
       "      <td>0</td>\n",
       "      <td>...</td>\n",
       "      <td>0</td>\n",
       "      <td>0</td>\n",
       "      <td>0</td>\n",
       "      <td>0</td>\n",
       "      <td>0</td>\n",
       "      <td>0</td>\n",
       "      <td>0</td>\n",
       "      <td>0</td>\n",
       "      <td>0</td>\n",
       "      <td>0</td>\n",
       "    </tr>\n",
       "    <tr>\n",
       "      <th>32</th>\n",
       "      <td>6</td>\n",
       "      <td>10</td>\n",
       "      <td>0</td>\n",
       "      <td>0</td>\n",
       "      <td>0</td>\n",
       "      <td>0</td>\n",
       "      <td>0</td>\n",
       "      <td>0</td>\n",
       "      <td>0</td>\n",
       "      <td>0</td>\n",
       "      <td>...</td>\n",
       "      <td>0</td>\n",
       "      <td>0</td>\n",
       "      <td>0</td>\n",
       "      <td>0</td>\n",
       "      <td>0</td>\n",
       "      <td>0</td>\n",
       "      <td>0</td>\n",
       "      <td>0</td>\n",
       "      <td>0</td>\n",
       "      <td>0</td>\n",
       "    </tr>\n",
       "  </tbody>\n",
       "</table>\n",
       "<p>3 rows × 34 columns</p>\n",
       "</div>"
      ],
      "text/plain": [
       "                item_cnt_day                              ...                 \\\n",
       "date_block_num            0   1  2  3  4  5  6  7  8  9   ... 24 25 26 27 28   \n",
       "shop_id item_id                                           ...                  \n",
       "0       30                 0  31  0  0  0  0  0  0  0  0  ...  0  0  0  0  0   \n",
       "        31                 0  11  0  0  0  0  0  0  0  0  ...  0  0  0  0  0   \n",
       "        32                 6  10  0  0  0  0  0  0  0  0  ...  0  0  0  0  0   \n",
       "\n",
       "                                \n",
       "date_block_num  29 30 31 32 33  \n",
       "shop_id item_id                 \n",
       "0       30       0  0  0  0  0  \n",
       "        31       0  0  0  0  0  \n",
       "        32       0  0  0  0  0  \n",
       "\n",
       "[3 rows x 34 columns]"
      ]
     },
     "execution_count": 111,
     "metadata": {},
     "output_type": "execute_result"
    }
   ],
   "source": [
    "dataset.head(3)"
   ]
  },
  {
   "cell_type": "code",
   "execution_count": 112,
   "metadata": {
    "_uuid": "2ab7ea5328f337d2d90477215045bcdd5b3a289c",
    "execution": {
     "iopub.execute_input": "2022-10-14T20:38:19.882880Z",
     "iopub.status.busy": "2022-10-14T20:38:19.882209Z",
     "iopub.status.idle": "2022-10-14T20:38:19.894711Z",
     "shell.execute_reply": "2022-10-14T20:38:19.893790Z",
     "shell.execute_reply.started": "2022-10-14T20:38:19.882844Z"
    },
    "id": "6SSfr9nKU3T0"
   },
   "outputs": [],
   "source": [
    "# lets reset our indices, so that data should be in way we can easily manipulate\n",
    "dataset.reset_index(inplace = True)"
   ]
  },
  {
   "cell_type": "code",
   "execution_count": 113,
   "metadata": {
    "_uuid": "efe0d2b799958be1ed8273ff21b641659671036b",
    "colab": {
     "base_uri": "https://localhost:8080/",
     "height": 166
    },
    "execution": {
     "iopub.execute_input": "2022-10-14T20:38:21.932359Z",
     "iopub.status.busy": "2022-10-14T20:38:21.931971Z",
     "iopub.status.idle": "2022-10-14T20:38:21.953626Z",
     "shell.execute_reply": "2022-10-14T20:38:21.952702Z",
     "shell.execute_reply.started": "2022-10-14T20:38:21.932327Z"
    },
    "id": "p4qk5D0lU3T_",
    "outputId": "979557f2-16bf-46aa-b0a3-40e6c25afba9"
   },
   "outputs": [
    {
     "data": {
      "text/html": [
       "<div>\n",
       "<style scoped>\n",
       "    .dataframe tbody tr th:only-of-type {\n",
       "        vertical-align: middle;\n",
       "    }\n",
       "\n",
       "    .dataframe tbody tr th {\n",
       "        vertical-align: top;\n",
       "    }\n",
       "\n",
       "    .dataframe thead tr th {\n",
       "        text-align: left;\n",
       "    }\n",
       "</style>\n",
       "<table border=\"1\" class=\"dataframe\">\n",
       "  <thead>\n",
       "    <tr>\n",
       "      <th></th>\n",
       "      <th>shop_id</th>\n",
       "      <th>item_id</th>\n",
       "      <th colspan=\"19\" halign=\"left\">item_cnt_day</th>\n",
       "    </tr>\n",
       "    <tr>\n",
       "      <th>date_block_num</th>\n",
       "      <th></th>\n",
       "      <th></th>\n",
       "      <th>0</th>\n",
       "      <th>1</th>\n",
       "      <th>2</th>\n",
       "      <th>3</th>\n",
       "      <th>4</th>\n",
       "      <th>5</th>\n",
       "      <th>6</th>\n",
       "      <th>7</th>\n",
       "      <th>...</th>\n",
       "      <th>24</th>\n",
       "      <th>25</th>\n",
       "      <th>26</th>\n",
       "      <th>27</th>\n",
       "      <th>28</th>\n",
       "      <th>29</th>\n",
       "      <th>30</th>\n",
       "      <th>31</th>\n",
       "      <th>32</th>\n",
       "      <th>33</th>\n",
       "    </tr>\n",
       "  </thead>\n",
       "  <tbody>\n",
       "    <tr>\n",
       "      <th>0</th>\n",
       "      <td>0</td>\n",
       "      <td>30</td>\n",
       "      <td>0</td>\n",
       "      <td>31</td>\n",
       "      <td>0</td>\n",
       "      <td>0</td>\n",
       "      <td>0</td>\n",
       "      <td>0</td>\n",
       "      <td>0</td>\n",
       "      <td>0</td>\n",
       "      <td>...</td>\n",
       "      <td>0</td>\n",
       "      <td>0</td>\n",
       "      <td>0</td>\n",
       "      <td>0</td>\n",
       "      <td>0</td>\n",
       "      <td>0</td>\n",
       "      <td>0</td>\n",
       "      <td>0</td>\n",
       "      <td>0</td>\n",
       "      <td>0</td>\n",
       "    </tr>\n",
       "    <tr>\n",
       "      <th>1</th>\n",
       "      <td>0</td>\n",
       "      <td>31</td>\n",
       "      <td>0</td>\n",
       "      <td>11</td>\n",
       "      <td>0</td>\n",
       "      <td>0</td>\n",
       "      <td>0</td>\n",
       "      <td>0</td>\n",
       "      <td>0</td>\n",
       "      <td>0</td>\n",
       "      <td>...</td>\n",
       "      <td>0</td>\n",
       "      <td>0</td>\n",
       "      <td>0</td>\n",
       "      <td>0</td>\n",
       "      <td>0</td>\n",
       "      <td>0</td>\n",
       "      <td>0</td>\n",
       "      <td>0</td>\n",
       "      <td>0</td>\n",
       "      <td>0</td>\n",
       "    </tr>\n",
       "    <tr>\n",
       "      <th>2</th>\n",
       "      <td>0</td>\n",
       "      <td>32</td>\n",
       "      <td>6</td>\n",
       "      <td>10</td>\n",
       "      <td>0</td>\n",
       "      <td>0</td>\n",
       "      <td>0</td>\n",
       "      <td>0</td>\n",
       "      <td>0</td>\n",
       "      <td>0</td>\n",
       "      <td>...</td>\n",
       "      <td>0</td>\n",
       "      <td>0</td>\n",
       "      <td>0</td>\n",
       "      <td>0</td>\n",
       "      <td>0</td>\n",
       "      <td>0</td>\n",
       "      <td>0</td>\n",
       "      <td>0</td>\n",
       "      <td>0</td>\n",
       "      <td>0</td>\n",
       "    </tr>\n",
       "  </tbody>\n",
       "</table>\n",
       "<p>3 rows × 36 columns</p>\n",
       "</div>"
      ],
      "text/plain": [
       "               shop_id item_id item_cnt_day                        ...        \\\n",
       "date_block_num                            0   1  2  3  4  5  6  7  ... 24 25   \n",
       "0                    0      30            0  31  0  0  0  0  0  0  ...  0  0   \n",
       "1                    0      31            0  11  0  0  0  0  0  0  ...  0  0   \n",
       "2                    0      32            6  10  0  0  0  0  0  0  ...  0  0   \n",
       "\n",
       "                                        \n",
       "date_block_num 26 27 28 29 30 31 32 33  \n",
       "0               0  0  0  0  0  0  0  0  \n",
       "1               0  0  0  0  0  0  0  0  \n",
       "2               0  0  0  0  0  0  0  0  \n",
       "\n",
       "[3 rows x 36 columns]"
      ]
     },
     "execution_count": 113,
     "metadata": {},
     "output_type": "execute_result"
    }
   ],
   "source": [
    "# lets check on our pivot table\n",
    "dataset.head(3)"
   ]
  },
  {
   "cell_type": "code",
   "execution_count": null,
   "metadata": {
    "_uuid": "6d3f8cddfa21cd9b07ba1f6d6f243632050a3d07",
    "colab": {
     "base_uri": "https://localhost:8080/",
     "height": 104
    },
    "id": "k_r2sTYDU3UG",
    "outputId": "90b410dd-23e3-4537-ef19-2ed7dbc33d8b"
   },
   "outputs": [],
   "source": [
    "# Now we will merge our pivot table with the test_data because we want to keep the data of items we have\n",
    "# predict\n",
    "dataset = pd.merge(test_data,dataset,on = ['item_id','shop_id'],how = 'left')"
   ]
  },
  {
   "cell_type": "code",
   "execution_count": 16,
   "metadata": {
    "colab": {
     "base_uri": "https://localhost:8080/",
     "height": 232
    },
    "execution": {
     "iopub.execute_input": "2022-10-14T19:41:56.109086Z",
     "iopub.status.busy": "2022-10-14T19:41:56.106882Z",
     "iopub.status.idle": "2022-10-14T19:41:56.153991Z",
     "shell.execute_reply": "2022-10-14T19:41:56.153222Z",
     "shell.execute_reply.started": "2022-10-14T19:41:56.109049Z"
    },
    "id": "XQ03jVGTaZXE",
    "outputId": "082fb8ec-2f29-4ff4-df66-fec403441a47"
   },
   "outputs": [
    {
     "data": {
      "text/html": [
       "<div>\n",
       "<style scoped>\n",
       "    .dataframe tbody tr th:only-of-type {\n",
       "        vertical-align: middle;\n",
       "    }\n",
       "\n",
       "    .dataframe tbody tr th {\n",
       "        vertical-align: top;\n",
       "    }\n",
       "\n",
       "    .dataframe thead th {\n",
       "        text-align: right;\n",
       "    }\n",
       "</style>\n",
       "<table border=\"1\" class=\"dataframe\">\n",
       "  <thead>\n",
       "    <tr style=\"text-align: right;\">\n",
       "      <th></th>\n",
       "      <th>ID</th>\n",
       "      <th>shop_id</th>\n",
       "      <th>item_id</th>\n",
       "      <th>(item_cnt_day, 0)</th>\n",
       "      <th>(item_cnt_day, 1)</th>\n",
       "      <th>(item_cnt_day, 2)</th>\n",
       "      <th>(item_cnt_day, 3)</th>\n",
       "      <th>(item_cnt_day, 4)</th>\n",
       "      <th>(item_cnt_day, 5)</th>\n",
       "      <th>(item_cnt_day, 6)</th>\n",
       "      <th>...</th>\n",
       "      <th>(item_cnt_day, 24)</th>\n",
       "      <th>(item_cnt_day, 25)</th>\n",
       "      <th>(item_cnt_day, 26)</th>\n",
       "      <th>(item_cnt_day, 27)</th>\n",
       "      <th>(item_cnt_day, 28)</th>\n",
       "      <th>(item_cnt_day, 29)</th>\n",
       "      <th>(item_cnt_day, 30)</th>\n",
       "      <th>(item_cnt_day, 31)</th>\n",
       "      <th>(item_cnt_day, 32)</th>\n",
       "      <th>(item_cnt_day, 33)</th>\n",
       "    </tr>\n",
       "  </thead>\n",
       "  <tbody>\n",
       "    <tr>\n",
       "      <th>0</th>\n",
       "      <td>0</td>\n",
       "      <td>5</td>\n",
       "      <td>5037</td>\n",
       "      <td>0.0</td>\n",
       "      <td>0.0</td>\n",
       "      <td>0.0</td>\n",
       "      <td>0.0</td>\n",
       "      <td>0.0</td>\n",
       "      <td>0.0</td>\n",
       "      <td>0.0</td>\n",
       "      <td>...</td>\n",
       "      <td>2.0</td>\n",
       "      <td>0.0</td>\n",
       "      <td>0.0</td>\n",
       "      <td>0.0</td>\n",
       "      <td>1.0</td>\n",
       "      <td>1.0</td>\n",
       "      <td>1.0</td>\n",
       "      <td>3.0</td>\n",
       "      <td>1.0</td>\n",
       "      <td>0.0</td>\n",
       "    </tr>\n",
       "    <tr>\n",
       "      <th>1</th>\n",
       "      <td>1</td>\n",
       "      <td>5</td>\n",
       "      <td>5320</td>\n",
       "      <td>NaN</td>\n",
       "      <td>NaN</td>\n",
       "      <td>NaN</td>\n",
       "      <td>NaN</td>\n",
       "      <td>NaN</td>\n",
       "      <td>NaN</td>\n",
       "      <td>NaN</td>\n",
       "      <td>...</td>\n",
       "      <td>NaN</td>\n",
       "      <td>NaN</td>\n",
       "      <td>NaN</td>\n",
       "      <td>NaN</td>\n",
       "      <td>NaN</td>\n",
       "      <td>NaN</td>\n",
       "      <td>NaN</td>\n",
       "      <td>NaN</td>\n",
       "      <td>NaN</td>\n",
       "      <td>NaN</td>\n",
       "    </tr>\n",
       "    <tr>\n",
       "      <th>2</th>\n",
       "      <td>2</td>\n",
       "      <td>5</td>\n",
       "      <td>5233</td>\n",
       "      <td>0.0</td>\n",
       "      <td>0.0</td>\n",
       "      <td>0.0</td>\n",
       "      <td>0.0</td>\n",
       "      <td>0.0</td>\n",
       "      <td>0.0</td>\n",
       "      <td>0.0</td>\n",
       "      <td>...</td>\n",
       "      <td>0.0</td>\n",
       "      <td>0.0</td>\n",
       "      <td>0.0</td>\n",
       "      <td>0.0</td>\n",
       "      <td>3.0</td>\n",
       "      <td>2.0</td>\n",
       "      <td>0.0</td>\n",
       "      <td>1.0</td>\n",
       "      <td>3.0</td>\n",
       "      <td>1.0</td>\n",
       "    </tr>\n",
       "    <tr>\n",
       "      <th>3</th>\n",
       "      <td>3</td>\n",
       "      <td>5</td>\n",
       "      <td>5232</td>\n",
       "      <td>0.0</td>\n",
       "      <td>0.0</td>\n",
       "      <td>0.0</td>\n",
       "      <td>0.0</td>\n",
       "      <td>0.0</td>\n",
       "      <td>0.0</td>\n",
       "      <td>0.0</td>\n",
       "      <td>...</td>\n",
       "      <td>0.0</td>\n",
       "      <td>0.0</td>\n",
       "      <td>0.0</td>\n",
       "      <td>0.0</td>\n",
       "      <td>0.0</td>\n",
       "      <td>0.0</td>\n",
       "      <td>0.0</td>\n",
       "      <td>1.0</td>\n",
       "      <td>0.0</td>\n",
       "      <td>0.0</td>\n",
       "    </tr>\n",
       "    <tr>\n",
       "      <th>4</th>\n",
       "      <td>4</td>\n",
       "      <td>5</td>\n",
       "      <td>5268</td>\n",
       "      <td>NaN</td>\n",
       "      <td>NaN</td>\n",
       "      <td>NaN</td>\n",
       "      <td>NaN</td>\n",
       "      <td>NaN</td>\n",
       "      <td>NaN</td>\n",
       "      <td>NaN</td>\n",
       "      <td>...</td>\n",
       "      <td>NaN</td>\n",
       "      <td>NaN</td>\n",
       "      <td>NaN</td>\n",
       "      <td>NaN</td>\n",
       "      <td>NaN</td>\n",
       "      <td>NaN</td>\n",
       "      <td>NaN</td>\n",
       "      <td>NaN</td>\n",
       "      <td>NaN</td>\n",
       "      <td>NaN</td>\n",
       "    </tr>\n",
       "  </tbody>\n",
       "</table>\n",
       "<p>5 rows × 37 columns</p>\n",
       "</div>"
      ],
      "text/plain": [
       "   ID  shop_id  item_id  (item_cnt_day, 0)  (item_cnt_day, 1)  \\\n",
       "0   0        5     5037                0.0                0.0   \n",
       "1   1        5     5320                NaN                NaN   \n",
       "2   2        5     5233                0.0                0.0   \n",
       "3   3        5     5232                0.0                0.0   \n",
       "4   4        5     5268                NaN                NaN   \n",
       "\n",
       "   (item_cnt_day, 2)  (item_cnt_day, 3)  (item_cnt_day, 4)  (item_cnt_day, 5)  \\\n",
       "0                0.0                0.0                0.0                0.0   \n",
       "1                NaN                NaN                NaN                NaN   \n",
       "2                0.0                0.0                0.0                0.0   \n",
       "3                0.0                0.0                0.0                0.0   \n",
       "4                NaN                NaN                NaN                NaN   \n",
       "\n",
       "   (item_cnt_day, 6)  ...  (item_cnt_day, 24)  (item_cnt_day, 25)  \\\n",
       "0                0.0  ...                 2.0                 0.0   \n",
       "1                NaN  ...                 NaN                 NaN   \n",
       "2                0.0  ...                 0.0                 0.0   \n",
       "3                0.0  ...                 0.0                 0.0   \n",
       "4                NaN  ...                 NaN                 NaN   \n",
       "\n",
       "   (item_cnt_day, 26)  (item_cnt_day, 27)  (item_cnt_day, 28)  \\\n",
       "0                 0.0                 0.0                 1.0   \n",
       "1                 NaN                 NaN                 NaN   \n",
       "2                 0.0                 0.0                 3.0   \n",
       "3                 0.0                 0.0                 0.0   \n",
       "4                 NaN                 NaN                 NaN   \n",
       "\n",
       "   (item_cnt_day, 29)  (item_cnt_day, 30)  (item_cnt_day, 31)  \\\n",
       "0                 1.0                 1.0                 3.0   \n",
       "1                 NaN                 NaN                 NaN   \n",
       "2                 2.0                 0.0                 1.0   \n",
       "3                 0.0                 0.0                 1.0   \n",
       "4                 NaN                 NaN                 NaN   \n",
       "\n",
       "   (item_cnt_day, 32)  (item_cnt_day, 33)  \n",
       "0                 1.0                 0.0  \n",
       "1                 NaN                 NaN  \n",
       "2                 3.0                 1.0  \n",
       "3                 0.0                 0.0  \n",
       "4                 NaN                 NaN  \n",
       "\n",
       "[5 rows x 37 columns]"
      ]
     },
     "execution_count": 16,
     "metadata": {},
     "output_type": "execute_result"
    }
   ],
   "source": [
    "dataset.head()"
   ]
  },
  {
   "cell_type": "code",
   "execution_count": 17,
   "metadata": {
    "_uuid": "5e8e4c20cdeda9487557f5570461358d919bab72",
    "colab": {
     "base_uri": "https://localhost:8080/",
     "height": 232
    },
    "execution": {
     "iopub.execute_input": "2022-10-14T19:41:56.159833Z",
     "iopub.status.busy": "2022-10-14T19:41:56.157765Z",
     "iopub.status.idle": "2022-10-14T19:41:56.224239Z",
     "shell.execute_reply": "2022-10-14T19:41:56.223144Z",
     "shell.execute_reply.started": "2022-10-14T19:41:56.159799Z"
    },
    "id": "L-VTmReHU3UK",
    "outputId": "881c7b4a-45f1-4c0d-aab7-7e20dc79b863"
   },
   "outputs": [
    {
     "data": {
      "text/html": [
       "<div>\n",
       "<style scoped>\n",
       "    .dataframe tbody tr th:only-of-type {\n",
       "        vertical-align: middle;\n",
       "    }\n",
       "\n",
       "    .dataframe tbody tr th {\n",
       "        vertical-align: top;\n",
       "    }\n",
       "\n",
       "    .dataframe thead th {\n",
       "        text-align: right;\n",
       "    }\n",
       "</style>\n",
       "<table border=\"1\" class=\"dataframe\">\n",
       "  <thead>\n",
       "    <tr style=\"text-align: right;\">\n",
       "      <th></th>\n",
       "      <th>ID</th>\n",
       "      <th>shop_id</th>\n",
       "      <th>item_id</th>\n",
       "      <th>(item_cnt_day, 0)</th>\n",
       "      <th>(item_cnt_day, 1)</th>\n",
       "      <th>(item_cnt_day, 2)</th>\n",
       "      <th>(item_cnt_day, 3)</th>\n",
       "      <th>(item_cnt_day, 4)</th>\n",
       "      <th>(item_cnt_day, 5)</th>\n",
       "      <th>(item_cnt_day, 6)</th>\n",
       "      <th>...</th>\n",
       "      <th>(item_cnt_day, 24)</th>\n",
       "      <th>(item_cnt_day, 25)</th>\n",
       "      <th>(item_cnt_day, 26)</th>\n",
       "      <th>(item_cnt_day, 27)</th>\n",
       "      <th>(item_cnt_day, 28)</th>\n",
       "      <th>(item_cnt_day, 29)</th>\n",
       "      <th>(item_cnt_day, 30)</th>\n",
       "      <th>(item_cnt_day, 31)</th>\n",
       "      <th>(item_cnt_day, 32)</th>\n",
       "      <th>(item_cnt_day, 33)</th>\n",
       "    </tr>\n",
       "  </thead>\n",
       "  <tbody>\n",
       "    <tr>\n",
       "      <th>0</th>\n",
       "      <td>0</td>\n",
       "      <td>5</td>\n",
       "      <td>5037</td>\n",
       "      <td>0.0</td>\n",
       "      <td>0.0</td>\n",
       "      <td>0.0</td>\n",
       "      <td>0.0</td>\n",
       "      <td>0.0</td>\n",
       "      <td>0.0</td>\n",
       "      <td>0.0</td>\n",
       "      <td>...</td>\n",
       "      <td>2.0</td>\n",
       "      <td>0.0</td>\n",
       "      <td>0.0</td>\n",
       "      <td>0.0</td>\n",
       "      <td>1.0</td>\n",
       "      <td>1.0</td>\n",
       "      <td>1.0</td>\n",
       "      <td>3.0</td>\n",
       "      <td>1.0</td>\n",
       "      <td>0.0</td>\n",
       "    </tr>\n",
       "    <tr>\n",
       "      <th>1</th>\n",
       "      <td>1</td>\n",
       "      <td>5</td>\n",
       "      <td>5320</td>\n",
       "      <td>0.0</td>\n",
       "      <td>0.0</td>\n",
       "      <td>0.0</td>\n",
       "      <td>0.0</td>\n",
       "      <td>0.0</td>\n",
       "      <td>0.0</td>\n",
       "      <td>0.0</td>\n",
       "      <td>...</td>\n",
       "      <td>0.0</td>\n",
       "      <td>0.0</td>\n",
       "      <td>0.0</td>\n",
       "      <td>0.0</td>\n",
       "      <td>0.0</td>\n",
       "      <td>0.0</td>\n",
       "      <td>0.0</td>\n",
       "      <td>0.0</td>\n",
       "      <td>0.0</td>\n",
       "      <td>0.0</td>\n",
       "    </tr>\n",
       "    <tr>\n",
       "      <th>2</th>\n",
       "      <td>2</td>\n",
       "      <td>5</td>\n",
       "      <td>5233</td>\n",
       "      <td>0.0</td>\n",
       "      <td>0.0</td>\n",
       "      <td>0.0</td>\n",
       "      <td>0.0</td>\n",
       "      <td>0.0</td>\n",
       "      <td>0.0</td>\n",
       "      <td>0.0</td>\n",
       "      <td>...</td>\n",
       "      <td>0.0</td>\n",
       "      <td>0.0</td>\n",
       "      <td>0.0</td>\n",
       "      <td>0.0</td>\n",
       "      <td>3.0</td>\n",
       "      <td>2.0</td>\n",
       "      <td>0.0</td>\n",
       "      <td>1.0</td>\n",
       "      <td>3.0</td>\n",
       "      <td>1.0</td>\n",
       "    </tr>\n",
       "    <tr>\n",
       "      <th>3</th>\n",
       "      <td>3</td>\n",
       "      <td>5</td>\n",
       "      <td>5232</td>\n",
       "      <td>0.0</td>\n",
       "      <td>0.0</td>\n",
       "      <td>0.0</td>\n",
       "      <td>0.0</td>\n",
       "      <td>0.0</td>\n",
       "      <td>0.0</td>\n",
       "      <td>0.0</td>\n",
       "      <td>...</td>\n",
       "      <td>0.0</td>\n",
       "      <td>0.0</td>\n",
       "      <td>0.0</td>\n",
       "      <td>0.0</td>\n",
       "      <td>0.0</td>\n",
       "      <td>0.0</td>\n",
       "      <td>0.0</td>\n",
       "      <td>1.0</td>\n",
       "      <td>0.0</td>\n",
       "      <td>0.0</td>\n",
       "    </tr>\n",
       "    <tr>\n",
       "      <th>4</th>\n",
       "      <td>4</td>\n",
       "      <td>5</td>\n",
       "      <td>5268</td>\n",
       "      <td>0.0</td>\n",
       "      <td>0.0</td>\n",
       "      <td>0.0</td>\n",
       "      <td>0.0</td>\n",
       "      <td>0.0</td>\n",
       "      <td>0.0</td>\n",
       "      <td>0.0</td>\n",
       "      <td>...</td>\n",
       "      <td>0.0</td>\n",
       "      <td>0.0</td>\n",
       "      <td>0.0</td>\n",
       "      <td>0.0</td>\n",
       "      <td>0.0</td>\n",
       "      <td>0.0</td>\n",
       "      <td>0.0</td>\n",
       "      <td>0.0</td>\n",
       "      <td>0.0</td>\n",
       "      <td>0.0</td>\n",
       "    </tr>\n",
       "  </tbody>\n",
       "</table>\n",
       "<p>5 rows × 37 columns</p>\n",
       "</div>"
      ],
      "text/plain": [
       "   ID  shop_id  item_id  (item_cnt_day, 0)  (item_cnt_day, 1)  \\\n",
       "0   0        5     5037                0.0                0.0   \n",
       "1   1        5     5320                0.0                0.0   \n",
       "2   2        5     5233                0.0                0.0   \n",
       "3   3        5     5232                0.0                0.0   \n",
       "4   4        5     5268                0.0                0.0   \n",
       "\n",
       "   (item_cnt_day, 2)  (item_cnt_day, 3)  (item_cnt_day, 4)  (item_cnt_day, 5)  \\\n",
       "0                0.0                0.0                0.0                0.0   \n",
       "1                0.0                0.0                0.0                0.0   \n",
       "2                0.0                0.0                0.0                0.0   \n",
       "3                0.0                0.0                0.0                0.0   \n",
       "4                0.0                0.0                0.0                0.0   \n",
       "\n",
       "   (item_cnt_day, 6)  ...  (item_cnt_day, 24)  (item_cnt_day, 25)  \\\n",
       "0                0.0  ...                 2.0                 0.0   \n",
       "1                0.0  ...                 0.0                 0.0   \n",
       "2                0.0  ...                 0.0                 0.0   \n",
       "3                0.0  ...                 0.0                 0.0   \n",
       "4                0.0  ...                 0.0                 0.0   \n",
       "\n",
       "   (item_cnt_day, 26)  (item_cnt_day, 27)  (item_cnt_day, 28)  \\\n",
       "0                 0.0                 0.0                 1.0   \n",
       "1                 0.0                 0.0                 0.0   \n",
       "2                 0.0                 0.0                 3.0   \n",
       "3                 0.0                 0.0                 0.0   \n",
       "4                 0.0                 0.0                 0.0   \n",
       "\n",
       "   (item_cnt_day, 29)  (item_cnt_day, 30)  (item_cnt_day, 31)  \\\n",
       "0                 1.0                 1.0                 3.0   \n",
       "1                 0.0                 0.0                 0.0   \n",
       "2                 2.0                 0.0                 1.0   \n",
       "3                 0.0                 0.0                 1.0   \n",
       "4                 0.0                 0.0                 0.0   \n",
       "\n",
       "   (item_cnt_day, 32)  (item_cnt_day, 33)  \n",
       "0                 1.0                 0.0  \n",
       "1                 0.0                 0.0  \n",
       "2                 3.0                 1.0  \n",
       "3                 0.0                 0.0  \n",
       "4                 0.0                 0.0  \n",
       "\n",
       "[5 rows x 37 columns]"
      ]
     },
     "execution_count": 17,
     "metadata": {},
     "output_type": "execute_result"
    }
   ],
   "source": [
    "# lets fill all NaN values with 0\n",
    "dataset.fillna(0,inplace = True)\n",
    "# lets check our data now \n",
    "dataset.head()"
   ]
  },
  {
   "cell_type": "code",
   "execution_count": 18,
   "metadata": {
    "_uuid": "1e16316986055e62840caf762d2dc0cde3e49271",
    "colab": {
     "base_uri": "https://localhost:8080/",
     "height": 232
    },
    "execution": {
     "iopub.execute_input": "2022-10-14T19:41:56.225894Z",
     "iopub.status.busy": "2022-10-14T19:41:56.225534Z",
     "iopub.status.idle": "2022-10-14T19:41:56.283829Z",
     "shell.execute_reply": "2022-10-14T19:41:56.282788Z",
     "shell.execute_reply.started": "2022-10-14T19:41:56.225858Z"
    },
    "id": "suyy0Qe-U3UO",
    "outputId": "c0c41b57-1bde-481d-a1ae-43fbb42ccc76"
   },
   "outputs": [
    {
     "data": {
      "text/html": [
       "<div>\n",
       "<style scoped>\n",
       "    .dataframe tbody tr th:only-of-type {\n",
       "        vertical-align: middle;\n",
       "    }\n",
       "\n",
       "    .dataframe tbody tr th {\n",
       "        vertical-align: top;\n",
       "    }\n",
       "\n",
       "    .dataframe thead th {\n",
       "        text-align: right;\n",
       "    }\n",
       "</style>\n",
       "<table border=\"1\" class=\"dataframe\">\n",
       "  <thead>\n",
       "    <tr style=\"text-align: right;\">\n",
       "      <th></th>\n",
       "      <th>(item_cnt_day, 0)</th>\n",
       "      <th>(item_cnt_day, 1)</th>\n",
       "      <th>(item_cnt_day, 2)</th>\n",
       "      <th>(item_cnt_day, 3)</th>\n",
       "      <th>(item_cnt_day, 4)</th>\n",
       "      <th>(item_cnt_day, 5)</th>\n",
       "      <th>(item_cnt_day, 6)</th>\n",
       "      <th>(item_cnt_day, 7)</th>\n",
       "      <th>(item_cnt_day, 8)</th>\n",
       "      <th>(item_cnt_day, 9)</th>\n",
       "      <th>...</th>\n",
       "      <th>(item_cnt_day, 24)</th>\n",
       "      <th>(item_cnt_day, 25)</th>\n",
       "      <th>(item_cnt_day, 26)</th>\n",
       "      <th>(item_cnt_day, 27)</th>\n",
       "      <th>(item_cnt_day, 28)</th>\n",
       "      <th>(item_cnt_day, 29)</th>\n",
       "      <th>(item_cnt_day, 30)</th>\n",
       "      <th>(item_cnt_day, 31)</th>\n",
       "      <th>(item_cnt_day, 32)</th>\n",
       "      <th>(item_cnt_day, 33)</th>\n",
       "    </tr>\n",
       "  </thead>\n",
       "  <tbody>\n",
       "    <tr>\n",
       "      <th>0</th>\n",
       "      <td>0.0</td>\n",
       "      <td>0.0</td>\n",
       "      <td>0.0</td>\n",
       "      <td>0.0</td>\n",
       "      <td>0.0</td>\n",
       "      <td>0.0</td>\n",
       "      <td>0.0</td>\n",
       "      <td>0.0</td>\n",
       "      <td>0.0</td>\n",
       "      <td>0.0</td>\n",
       "      <td>...</td>\n",
       "      <td>2.0</td>\n",
       "      <td>0.0</td>\n",
       "      <td>0.0</td>\n",
       "      <td>0.0</td>\n",
       "      <td>1.0</td>\n",
       "      <td>1.0</td>\n",
       "      <td>1.0</td>\n",
       "      <td>3.0</td>\n",
       "      <td>1.0</td>\n",
       "      <td>0.0</td>\n",
       "    </tr>\n",
       "    <tr>\n",
       "      <th>1</th>\n",
       "      <td>0.0</td>\n",
       "      <td>0.0</td>\n",
       "      <td>0.0</td>\n",
       "      <td>0.0</td>\n",
       "      <td>0.0</td>\n",
       "      <td>0.0</td>\n",
       "      <td>0.0</td>\n",
       "      <td>0.0</td>\n",
       "      <td>0.0</td>\n",
       "      <td>0.0</td>\n",
       "      <td>...</td>\n",
       "      <td>0.0</td>\n",
       "      <td>0.0</td>\n",
       "      <td>0.0</td>\n",
       "      <td>0.0</td>\n",
       "      <td>0.0</td>\n",
       "      <td>0.0</td>\n",
       "      <td>0.0</td>\n",
       "      <td>0.0</td>\n",
       "      <td>0.0</td>\n",
       "      <td>0.0</td>\n",
       "    </tr>\n",
       "    <tr>\n",
       "      <th>2</th>\n",
       "      <td>0.0</td>\n",
       "      <td>0.0</td>\n",
       "      <td>0.0</td>\n",
       "      <td>0.0</td>\n",
       "      <td>0.0</td>\n",
       "      <td>0.0</td>\n",
       "      <td>0.0</td>\n",
       "      <td>0.0</td>\n",
       "      <td>0.0</td>\n",
       "      <td>0.0</td>\n",
       "      <td>...</td>\n",
       "      <td>0.0</td>\n",
       "      <td>0.0</td>\n",
       "      <td>0.0</td>\n",
       "      <td>0.0</td>\n",
       "      <td>3.0</td>\n",
       "      <td>2.0</td>\n",
       "      <td>0.0</td>\n",
       "      <td>1.0</td>\n",
       "      <td>3.0</td>\n",
       "      <td>1.0</td>\n",
       "    </tr>\n",
       "    <tr>\n",
       "      <th>3</th>\n",
       "      <td>0.0</td>\n",
       "      <td>0.0</td>\n",
       "      <td>0.0</td>\n",
       "      <td>0.0</td>\n",
       "      <td>0.0</td>\n",
       "      <td>0.0</td>\n",
       "      <td>0.0</td>\n",
       "      <td>0.0</td>\n",
       "      <td>0.0</td>\n",
       "      <td>0.0</td>\n",
       "      <td>...</td>\n",
       "      <td>0.0</td>\n",
       "      <td>0.0</td>\n",
       "      <td>0.0</td>\n",
       "      <td>0.0</td>\n",
       "      <td>0.0</td>\n",
       "      <td>0.0</td>\n",
       "      <td>0.0</td>\n",
       "      <td>1.0</td>\n",
       "      <td>0.0</td>\n",
       "      <td>0.0</td>\n",
       "    </tr>\n",
       "    <tr>\n",
       "      <th>4</th>\n",
       "      <td>0.0</td>\n",
       "      <td>0.0</td>\n",
       "      <td>0.0</td>\n",
       "      <td>0.0</td>\n",
       "      <td>0.0</td>\n",
       "      <td>0.0</td>\n",
       "      <td>0.0</td>\n",
       "      <td>0.0</td>\n",
       "      <td>0.0</td>\n",
       "      <td>0.0</td>\n",
       "      <td>...</td>\n",
       "      <td>0.0</td>\n",
       "      <td>0.0</td>\n",
       "      <td>0.0</td>\n",
       "      <td>0.0</td>\n",
       "      <td>0.0</td>\n",
       "      <td>0.0</td>\n",
       "      <td>0.0</td>\n",
       "      <td>0.0</td>\n",
       "      <td>0.0</td>\n",
       "      <td>0.0</td>\n",
       "    </tr>\n",
       "  </tbody>\n",
       "</table>\n",
       "<p>5 rows × 34 columns</p>\n",
       "</div>"
      ],
      "text/plain": [
       "   (item_cnt_day, 0)  (item_cnt_day, 1)  (item_cnt_day, 2)  (item_cnt_day, 3)  \\\n",
       "0                0.0                0.0                0.0                0.0   \n",
       "1                0.0                0.0                0.0                0.0   \n",
       "2                0.0                0.0                0.0                0.0   \n",
       "3                0.0                0.0                0.0                0.0   \n",
       "4                0.0                0.0                0.0                0.0   \n",
       "\n",
       "   (item_cnt_day, 4)  (item_cnt_day, 5)  (item_cnt_day, 6)  (item_cnt_day, 7)  \\\n",
       "0                0.0                0.0                0.0                0.0   \n",
       "1                0.0                0.0                0.0                0.0   \n",
       "2                0.0                0.0                0.0                0.0   \n",
       "3                0.0                0.0                0.0                0.0   \n",
       "4                0.0                0.0                0.0                0.0   \n",
       "\n",
       "   (item_cnt_day, 8)  (item_cnt_day, 9)  ...  (item_cnt_day, 24)  \\\n",
       "0                0.0                0.0  ...                 2.0   \n",
       "1                0.0                0.0  ...                 0.0   \n",
       "2                0.0                0.0  ...                 0.0   \n",
       "3                0.0                0.0  ...                 0.0   \n",
       "4                0.0                0.0  ...                 0.0   \n",
       "\n",
       "   (item_cnt_day, 25)  (item_cnt_day, 26)  (item_cnt_day, 27)  \\\n",
       "0                 0.0                 0.0                 0.0   \n",
       "1                 0.0                 0.0                 0.0   \n",
       "2                 0.0                 0.0                 0.0   \n",
       "3                 0.0                 0.0                 0.0   \n",
       "4                 0.0                 0.0                 0.0   \n",
       "\n",
       "   (item_cnt_day, 28)  (item_cnt_day, 29)  (item_cnt_day, 30)  \\\n",
       "0                 1.0                 1.0                 1.0   \n",
       "1                 0.0                 0.0                 0.0   \n",
       "2                 3.0                 2.0                 0.0   \n",
       "3                 0.0                 0.0                 0.0   \n",
       "4                 0.0                 0.0                 0.0   \n",
       "\n",
       "   (item_cnt_day, 31)  (item_cnt_day, 32)  (item_cnt_day, 33)  \n",
       "0                 3.0                 1.0                 0.0  \n",
       "1                 0.0                 0.0                 0.0  \n",
       "2                 1.0                 3.0                 1.0  \n",
       "3                 1.0                 0.0                 0.0  \n",
       "4                 0.0                 0.0                 0.0  \n",
       "\n",
       "[5 rows x 34 columns]"
      ]
     },
     "execution_count": 18,
     "metadata": {},
     "output_type": "execute_result"
    }
   ],
   "source": [
    "# we will drop shop_id and item_id because we do not need them\n",
    "# we are teaching our model how to generate the next sequence \n",
    "dataset.drop(['shop_id','item_id','ID'],inplace = True, axis = 1)\n",
    "dataset.head()"
   ]
  },
  {
   "cell_type": "code",
   "execution_count": 19,
   "metadata": {
    "_uuid": "dc7ca752bc9f265b71861a72499aec3dbcc28dfb",
    "colab": {
     "base_uri": "https://localhost:8080/",
     "height": 34
    },
    "execution": {
     "iopub.execute_input": "2022-10-14T19:41:56.285815Z",
     "iopub.status.busy": "2022-10-14T19:41:56.285444Z",
     "iopub.status.idle": "2022-10-14T19:41:56.293032Z",
     "shell.execute_reply": "2022-10-14T19:41:56.291837Z",
     "shell.execute_reply.started": "2022-10-14T19:41:56.285778Z"
    },
    "id": "skDsrXDOU3UU",
    "outputId": "0acb22ed-9f43-4445-bf30-9a94c9d216c8"
   },
   "outputs": [
    {
     "name": "stdout",
     "output_type": "stream",
     "text": [
      "(214200, 33, 1) (214200, 1) (214200, 33, 1)\n"
     ]
    }
   ],
   "source": [
    "# X we will keep all columns execpt the last one \n",
    "X_train = np.expand_dims(dataset.values[:,:-1],axis = 2)\n",
    "# the last column is our label\n",
    "y_train = dataset.values[:,-1:]\n",
    "\n",
    "# for test we keep all the columns execpt the first one\n",
    "X_test = np.expand_dims(dataset.values[:,1:],axis = 2)\n",
    "\n",
    "# lets have a look on the shape \n",
    "print(X_train.shape,y_train.shape,X_test.shape)\n"
   ]
  },
  {
   "cell_type": "code",
   "execution_count": 20,
   "metadata": {
    "_uuid": "dba3a0a291adce5f2146455fdb670996224aad70",
    "execution": {
     "iopub.execute_input": "2022-10-14T19:41:56.295511Z",
     "iopub.status.busy": "2022-10-14T19:41:56.294557Z",
     "iopub.status.idle": "2022-10-14T19:41:57.220141Z",
     "shell.execute_reply": "2022-10-14T19:41:57.219198Z",
     "shell.execute_reply.started": "2022-10-14T19:41:56.295477Z"
    },
    "id": "Ze2HVpp5U3Uc"
   },
   "outputs": [],
   "source": [
    "# importing libraries required for our model\n",
    "from keras import optimizers\n",
    "from keras.utils.vis_utils import plot_model\n",
    "from keras.models import Sequential, Model\n",
    "from keras.layers.convolutional import Conv1D, MaxPooling1D\n",
    "from keras.layers import Dense, LSTM, RepeatVector, TimeDistributed, Flatten, Dropout\n",
    "from sklearn.metrics import mean_squared_error\n",
    "from sklearn.model_selection import train_test_split"
   ]
  },
  {
   "cell_type": "code",
   "execution_count": 36,
   "metadata": {
    "_uuid": "c6c04c796d4b30f7330d97ede3cdca92a7607a4c",
    "colab": {
     "base_uri": "https://localhost:8080/",
     "height": 252
    },
    "execution": {
     "iopub.execute_input": "2022-10-14T19:45:43.034420Z",
     "iopub.status.busy": "2022-10-14T19:45:43.033975Z",
     "iopub.status.idle": "2022-10-14T19:45:43.353238Z",
     "shell.execute_reply": "2022-10-14T19:45:43.352208Z",
     "shell.execute_reply.started": "2022-10-14T19:45:43.034381Z"
    },
    "id": "JvOqU0QOU3Ui",
    "outputId": "dc106ce8-31d2-4750-c2e7-5f2d6b66ab43"
   },
   "outputs": [
    {
     "name": "stdout",
     "output_type": "stream",
     "text": [
      "Model: \"sequential_4\"\n",
      "_________________________________________________________________\n",
      "Layer (type)                 Output Shape              Param #   \n",
      "=================================================================\n",
      "lstm_1 (LSTM)                (None, 64)                16896     \n",
      "_________________________________________________________________\n",
      "dropout_4 (Dropout)          (None, 64)                0         \n",
      "_________________________________________________________________\n",
      "dense_7 (Dense)              (None, 1)                 65        \n",
      "=================================================================\n",
      "Total params: 16,961\n",
      "Trainable params: 16,961\n",
      "Non-trainable params: 0\n",
      "_________________________________________________________________\n"
     ]
    }
   ],
   "source": [
    "# our defining our model \n",
    "model_lstm = Sequential()\n",
    "model_lstm.add(LSTM(units = 64,input_shape = (X_train.shape[1], X_train.shape[2])))\n",
    "model_lstm.add(Dropout(0.4))\n",
    "model_lstm.add(Dense(1))\n",
    "\n",
    "model_lstm.compile(loss = 'mse',optimizer = 'adam', metrics = ['mean_squared_error'])\n",
    "model_lstm.summary()\n"
   ]
  },
  {
   "cell_type": "code",
   "execution_count": 37,
   "metadata": {
    "_uuid": "a25822391ef2ab412f5abdd2b317d9eec825e19b",
    "colab": {
     "base_uri": "https://localhost:8080/",
     "height": 353
    },
    "execution": {
     "iopub.execute_input": "2022-10-14T19:45:46.414370Z",
     "iopub.status.busy": "2022-10-14T19:45:46.413864Z",
     "iopub.status.idle": "2022-10-14T19:45:55.437321Z",
     "shell.execute_reply": "2022-10-14T19:45:55.436442Z",
     "shell.execute_reply.started": "2022-10-14T19:45:46.414326Z"
    },
    "id": "by7o6xEKU3Uq",
    "outputId": "70d6b1d9-72a7-4494-dc2c-ba1350eec35d",
    "scrolled": true
   },
   "outputs": [
    {
     "name": "stdout",
     "output_type": "stream",
     "text": [
      "Epoch 1/10\n",
      "53/53 [==============================] - 3s 16ms/step - loss: 30.5643 - mean_squared_error: 30.5643\n",
      "Epoch 2/10\n",
      "53/53 [==============================] - 1s 13ms/step - loss: 30.2598 - mean_squared_error: 30.2598\n",
      "Epoch 3/10\n",
      "53/53 [==============================] - 1s 12ms/step - loss: 29.9798 - mean_squared_error: 29.9798\n",
      "Epoch 4/10\n",
      "53/53 [==============================] - 1s 12ms/step - loss: 29.8438 - mean_squared_error: 29.8438\n",
      "Epoch 5/10\n",
      "53/53 [==============================] - 1s 12ms/step - loss: 29.7660 - mean_squared_error: 29.7660\n",
      "Epoch 6/10\n",
      "53/53 [==============================] - 1s 12ms/step - loss: 29.6272 - mean_squared_error: 29.6272\n",
      "Epoch 7/10\n",
      "53/53 [==============================] - 1s 12ms/step - loss: 29.5691 - mean_squared_error: 29.5691\n",
      "Epoch 8/10\n",
      "53/53 [==============================] - 1s 12ms/step - loss: 29.5839 - mean_squared_error: 29.5839\n",
      "Epoch 9/10\n",
      "53/53 [==============================] - 1s 12ms/step - loss: 29.5931 - mean_squared_error: 29.5931\n",
      "Epoch 10/10\n",
      "53/53 [==============================] - 1s 12ms/step - loss: 29.5352 - mean_squared_error: 29.5352\n"
     ]
    }
   ],
   "source": [
    "history_lstm = model_lstm.fit(X_train,y_train,batch_size = 4096,epochs = 10)"
   ]
  },
  {
   "cell_type": "code",
   "execution_count": 38,
   "metadata": {
    "colab": {
     "base_uri": "https://localhost:8080/",
     "height": 282
    },
    "execution": {
     "iopub.execute_input": "2022-10-14T19:45:58.313627Z",
     "iopub.status.busy": "2022-10-14T19:45:58.313262Z",
     "iopub.status.idle": "2022-10-14T19:45:58.521410Z",
     "shell.execute_reply": "2022-10-14T19:45:58.520556Z",
     "shell.execute_reply.started": "2022-10-14T19:45:58.313593Z"
    },
    "id": "1d-mFa9KjVYX",
    "outputId": "72822181-307f-4ec0-9476-e13db1e494b5"
   },
   "outputs": [
    {
     "data": {
      "text/plain": [
       "<matplotlib.legend.Legend at 0x7f16d06c4c50>"
      ]
     },
     "execution_count": 38,
     "metadata": {},
     "output_type": "execute_result"
    },
    {
     "data": {
      "image/png": "[encoded data removed]",
      "text/plain": [
       "<Figure size 432x288 with 1 Axes>"
      ]
     },
     "metadata": {
      "needs_background": "light"
     },
     "output_type": "display_data"
    }
   ],
   "source": [
    "# Plot the loss curves for training\n",
    "plt.plot(history_lstm.history['loss'], color='b', label=\"Training loss\")\n",
    "plt.legend(loc='best', shadow=True)"
   ]
  },
  {
   "cell_type": "code",
   "execution_count": 39,
   "metadata": {
    "_uuid": "ab9760e02619d6a3d408e0d4f427adc1f20504c2",
    "execution": {
     "iopub.execute_input": "2022-10-14T19:46:02.004391Z",
     "iopub.status.busy": "2022-10-14T19:46:02.003429Z",
     "iopub.status.idle": "2022-10-14T19:46:12.099510Z",
     "shell.execute_reply": "2022-10-14T19:46:12.098136Z",
     "shell.execute_reply.started": "2022-10-14T19:46:02.004342Z"
    },
    "id": "R10Tpwg2U3Uy"
   },
   "outputs": [],
   "source": [
    "# creating submission file \n",
    "submission_pfs = model_lstm.predict(X_test)\n",
    "# we will keep every value between 0 and 20\n",
    "submission_pfs = submission_pfs.clip(0,20)\n",
    "# creating dataframe with required columns \n",
    "submission = pd.DataFrame({'ID':test_data['ID'],'item_cnt_month':submission_pfs.ravel()})\n",
    "# creating csv file from dataframe\n",
    "submission.to_csv('sub_pfs.csv',index = False)\n"
   ]
  },
  {
   "cell_type": "code",
   "execution_count": 40,
   "metadata": {
    "colab": {
     "base_uri": "https://localhost:8080/",
     "height": 136
    },
    "execution": {
     "iopub.execute_input": "2022-10-14T19:46:21.755189Z",
     "iopub.status.busy": "2022-10-14T19:46:21.754084Z",
     "iopub.status.idle": "2022-10-14T19:46:21.765205Z",
     "shell.execute_reply": "2022-10-14T19:46:21.764132Z",
     "shell.execute_reply.started": "2022-10-14T19:46:21.755116Z"
    },
    "id": "wATWbLMndjE5",
    "outputId": "140edd82-32ff-4216-ebea-7768e03ac8a5"
   },
   "outputs": [
    {
     "data": {
      "text/html": [
       "<div>\n",
       "<style scoped>\n",
       "    .dataframe tbody tr th:only-of-type {\n",
       "        vertical-align: middle;\n",
       "    }\n",
       "\n",
       "    .dataframe tbody tr th {\n",
       "        vertical-align: top;\n",
       "    }\n",
       "\n",
       "    .dataframe thead th {\n",
       "        text-align: right;\n",
       "    }\n",
       "</style>\n",
       "<table border=\"1\" class=\"dataframe\">\n",
       "  <thead>\n",
       "    <tr style=\"text-align: right;\">\n",
       "      <th></th>\n",
       "      <th>ID</th>\n",
       "      <th>item_cnt_month</th>\n",
       "    </tr>\n",
       "  </thead>\n",
       "  <tbody>\n",
       "    <tr>\n",
       "      <th>0</th>\n",
       "      <td>0</td>\n",
       "      <td>0.388789</td>\n",
       "    </tr>\n",
       "    <tr>\n",
       "      <th>1</th>\n",
       "      <td>1</td>\n",
       "      <td>0.100487</td>\n",
       "    </tr>\n",
       "    <tr>\n",
       "      <th>2</th>\n",
       "      <td>2</td>\n",
       "      <td>0.737616</td>\n",
       "    </tr>\n",
       "  </tbody>\n",
       "</table>\n",
       "</div>"
      ],
      "text/plain": [
       "   ID  item_cnt_month\n",
       "0   0        0.388789\n",
       "1   1        0.100487\n",
       "2   2        0.737616"
      ]
     },
     "execution_count": 40,
     "metadata": {},
     "output_type": "execute_result"
    }
   ],
   "source": [
    "submission.head(3)"
   ]
  },
  {
   "cell_type": "code",
   "execution_count": 41,
   "metadata": {
    "colab": {
     "base_uri": "https://localhost:8080/",
     "height": 34
    },
    "execution": {
     "iopub.execute_input": "2022-10-14T19:46:24.354832Z",
     "iopub.status.busy": "2022-10-14T19:46:24.353698Z",
     "iopub.status.idle": "2022-10-14T19:46:24.362433Z",
     "shell.execute_reply": "2022-10-14T19:46:24.361231Z",
     "shell.execute_reply.started": "2022-10-14T19:46:24.354789Z"
    },
    "id": "u9KKAFyPdk7x",
    "outputId": "72e3abe1-1d21-4b84-8bc7-e8d9c27ab448"
   },
   "outputs": [
    {
     "data": {
      "text/plain": [
       "((214200, 2), (214200, 3))"
      ]
     },
     "execution_count": 41,
     "metadata": {},
     "output_type": "execute_result"
    }
   ],
   "source": [
    "submission.shape, test_data.shape"
   ]
  },
  {
   "cell_type": "code",
   "execution_count": 92,
   "metadata": {
    "colab": {
     "base_uri": "https://localhost:8080/",
     "height": 252
    },
    "execution": {
     "iopub.execute_input": "2022-10-14T20:33:45.083632Z",
     "iopub.status.busy": "2022-10-14T20:33:45.083264Z",
     "iopub.status.idle": "2022-10-14T20:33:45.136105Z",
     "shell.execute_reply": "2022-10-14T20:33:45.135181Z",
     "shell.execute_reply.started": "2022-10-14T20:33:45.083601Z"
    },
    "id": "bclcRkkmdwnQ",
    "outputId": "a4158a4f-8117-4906-8a76-baae8bf59115"
   },
   "outputs": [
    {
     "name": "stdout",
     "output_type": "stream",
     "text": [
      "Model: \"sequential_20\"\n",
      "_________________________________________________________________\n",
      "Layer (type)                 Output Shape              Param #   \n",
      "=================================================================\n",
      "dense_34 (Dense)             (None, 33, 100)           200       \n",
      "_________________________________________________________________\n",
      "dropout_16 (Dropout)         (None, 33, 100)           0         \n",
      "_________________________________________________________________\n",
      "dense_35 (Dense)             (None, 33, 1)             101       \n",
      "=================================================================\n",
      "Total params: 301\n",
      "Trainable params: 301\n",
      "Non-trainable params: 0\n",
      "_________________________________________________________________\n"
     ]
    }
   ],
   "source": [
    "# MLP for Time Series Forecasting (Multilayer Perceptron )\n",
    "adam = tf.optimizers.Adam()\n",
    "\n",
    "model_mlp = Sequential()\n",
    "model_mlp.add(Dense(100, activation='relu', input_shape=(X_train.shape[1], X_train.shape[2])))\n",
    "model_mlp.add(Dropout(0.4))\n",
    "model_mlp.add(Dense(1))\n",
    "\n",
    "model_mlp.compile(loss='mse', optimizer=adam, metrics = ['mean_squared_error'])\n",
    "model_mlp.summary()"
   ]
  },
  {
   "cell_type": "code",
   "execution_count": 93,
   "metadata": {
    "colab": {
     "base_uri": "https://localhost:8080/",
     "height": 353
    },
    "execution": {
     "iopub.execute_input": "2022-10-14T20:33:49.040499Z",
     "iopub.status.busy": "2022-10-14T20:33:49.040082Z",
     "iopub.status.idle": "2022-10-14T20:36:06.427672Z",
     "shell.execute_reply": "2022-10-14T20:36:06.426768Z",
     "shell.execute_reply.started": "2022-10-14T20:33:49.040466Z"
    },
    "id": "qsgOhT9wjSA7",
    "outputId": "9b031366-5cdf-4dc9-f5d6-4206b784fde0"
   },
   "outputs": [
    {
     "name": "stdout",
     "output_type": "stream",
     "text": [
      "Epoch 1/10\n",
      "6694/6694 - 15s - loss: 28.1229 - mean_squared_error: 28.1229\n",
      "Epoch 2/10\n",
      "6694/6694 - 13s - loss: 27.1023 - mean_squared_error: 27.1023\n",
      "Epoch 3/10\n",
      "6694/6694 - 14s - loss: 27.9691 - mean_squared_error: 27.9691\n",
      "Epoch 4/10\n",
      "6694/6694 - 13s - loss: 27.9799 - mean_squared_error: 27.9799\n",
      "Epoch 5/10\n",
      "6694/6694 - 14s - loss: 27.9498 - mean_squared_error: 27.9498\n",
      "Epoch 6/10\n",
      "6694/6694 - 13s - loss: 28.1424 - mean_squared_error: 28.1424\n",
      "Epoch 7/10\n",
      "6694/6694 - 14s - loss: 28.1909 - mean_squared_error: 28.1909\n",
      "Epoch 8/10\n",
      "6694/6694 - 13s - loss: 27.9865 - mean_squared_error: 27.9865\n",
      "Epoch 9/10\n",
      "6694/6694 - 14s - loss: 28.2522 - mean_squared_error: 28.2522\n",
      "Epoch 10/10\n",
      "6694/6694 - 14s - loss: 28.2154 - mean_squared_error: 28.2154\n"
     ]
    }
   ],
   "source": [
    "history_mlp = model_mlp.fit(X_train,y_train,epochs = 10, verbose=2)"
   ]
  },
  {
   "cell_type": "code",
   "execution_count": 94,
   "metadata": {
    "colab": {
     "base_uri": "https://localhost:8080/",
     "height": 282
    },
    "execution": {
     "iopub.execute_input": "2022-10-14T20:36:06.430082Z",
     "iopub.status.busy": "2022-10-14T20:36:06.429724Z",
     "iopub.status.idle": "2022-10-14T20:36:06.634016Z",
     "shell.execute_reply": "2022-10-14T20:36:06.633043Z",
     "shell.execute_reply.started": "2022-10-14T20:36:06.430037Z"
    },
    "id": "ybT2FNtBniYJ",
    "outputId": "f2d08d14-ce33-4504-fbad-e26f75f2c1ca"
   },
   "outputs": [
    {
     "data": {
      "text/plain": [
       "<matplotlib.legend.Legend at 0x7f166c1ca450>"
      ]
     },
     "execution_count": 94,
     "metadata": {},
     "output_type": "execute_result"
    },
    {
     "data": {
      "image/png": "[encoded data removed]",
      "text/plain": [
       "<Figure size 432x288 with 1 Axes>"
      ]
     },
     "metadata": {
      "needs_background": "light"
     },
     "output_type": "display_data"
    }
   ],
   "source": [
    "plt.plot(history_mlp.history['loss'], color='b', label=\"Training loss\")\n",
    "plt.legend(loc='best', shadow=True)"
   ]
  },
  {
   "cell_type": "code",
   "execution_count": 82,
   "metadata": {
    "colab": {
     "base_uri": "https://localhost:8080/",
     "height": 319
    },
    "execution": {
     "iopub.execute_input": "2022-10-14T20:19:40.344784Z",
     "iopub.status.busy": "2022-10-14T20:19:40.344068Z",
     "iopub.status.idle": "2022-10-14T20:19:40.394242Z",
     "shell.execute_reply": "2022-10-14T20:19:40.393227Z",
     "shell.execute_reply.started": "2022-10-14T20:19:40.344748Z"
    },
    "id": "j9UiXbQOp0FS",
    "outputId": "3d1be769-4430-411c-c37e-0ec7e5158945"
   },
   "outputs": [
    {
     "name": "stdout",
     "output_type": "stream",
     "text": [
      "Model: \"sequential_17\"\n",
      "_________________________________________________________________\n",
      "Layer (type)                 Output Shape              Param #   \n",
      "=================================================================\n",
      "conv1d (Conv1D)              (None, 32, 64)            192       \n",
      "_________________________________________________________________\n",
      "max_pooling1d (MaxPooling1D) (None, 16, 64)            0         \n",
      "_________________________________________________________________\n",
      "flatten (Flatten)            (None, 1024)              0         \n",
      "_________________________________________________________________\n",
      "dense_30 (Dense)             (None, 50)                51250     \n",
      "_________________________________________________________________\n",
      "dense_31 (Dense)             (None, 1)                 51        \n",
      "=================================================================\n",
      "Total params: 51,493\n",
      "Trainable params: 51,493\n",
      "Non-trainable params: 0\n",
      "_________________________________________________________________\n"
     ]
    }
   ],
   "source": [
    "#CNN for Time Series Forecasting\n",
    "\n",
    "model_cnn = Sequential()\n",
    "model_cnn.add(Conv1D(filters=64, kernel_size=2, activation='relu', input_shape=(X_train.shape[1], X_train.shape[2])))\n",
    "model_cnn.add(MaxPooling1D(pool_size=2))\n",
    "model_cnn.add(Flatten())\n",
    "model_cnn.add(Dense(50, activation='relu'))\n",
    "model_cnn.add(Dense(1))\n",
    "model_cnn.compile(loss='mse', optimizer=adam)\n",
    "model_cnn.summary()"
   ]
  },
  {
   "cell_type": "code",
   "execution_count": 83,
   "metadata": {
    "colab": {
     "base_uri": "https://localhost:8080/",
     "height": 353
    },
    "execution": {
     "iopub.execute_input": "2022-10-14T20:19:43.450115Z",
     "iopub.status.busy": "2022-10-14T20:19:43.449656Z",
     "iopub.status.idle": "2022-10-14T20:21:52.546657Z",
     "shell.execute_reply": "2022-10-14T20:21:52.545984Z",
     "shell.execute_reply.started": "2022-10-14T20:19:43.450076Z"
    },
    "id": "h8JZz3wgp1-7",
    "outputId": "8a99dfe2-c613-46fc-a05c-5fe97ab804ae"
   },
   "outputs": [
    {
     "name": "stdout",
     "output_type": "stream",
     "text": [
      "Epoch 1/10\n",
      "6694/6694 - 17s - loss: 29.7075\n",
      "Epoch 2/10\n",
      "6694/6694 - 13s - loss: 48.0971\n",
      "Epoch 3/10\n",
      "6694/6694 - 12s - loss: 26.4110\n",
      "Epoch 4/10\n",
      "6694/6694 - 13s - loss: 34.2273\n",
      "Epoch 5/10\n",
      "6694/6694 - 12s - loss: 33.2982\n",
      "Epoch 6/10\n",
      "6694/6694 - 12s - loss: 27.5194\n",
      "Epoch 7/10\n",
      "6694/6694 - 13s - loss: 28.1560\n",
      "Epoch 8/10\n",
      "6694/6694 - 12s - loss: 29.2323\n",
      "Epoch 9/10\n",
      "6694/6694 - 12s - loss: 43.0424\n",
      "Epoch 10/10\n",
      "6694/6694 - 13s - loss: 24.1209\n"
     ]
    }
   ],
   "source": [
    "cnn_history = model_cnn.fit(X_train, y_train, epochs=10, verbose=2)"
   ]
  },
  {
   "cell_type": "code",
   "execution_count": 86,
   "metadata": {
    "colab": {
     "base_uri": "https://localhost:8080/",
     "height": 282
    },
    "execution": {
     "iopub.execute_input": "2022-10-14T20:22:16.990738Z",
     "iopub.status.busy": "2022-10-14T20:22:16.990308Z",
     "iopub.status.idle": "2022-10-14T20:22:17.235970Z",
     "shell.execute_reply": "2022-10-14T20:22:17.235027Z",
     "shell.execute_reply.started": "2022-10-14T20:22:16.990700Z"
    },
    "id": "Ivq5CN3Ep4ll",
    "outputId": "a49ee0a2-5dc7-4aaf-aa7a-6d5e4ebf4ad6"
   },
   "outputs": [
    {
     "data": {
      "text/plain": [
       "<matplotlib.legend.Legend at 0x7f166c87d5d0>"
      ]
     },
     "execution_count": 86,
     "metadata": {},
     "output_type": "execute_result"
    },
    {
     "data": {
      "image/png": "[encoded data removed]",
      "text/plain": [
       "<Figure size 432x288 with 1 Axes>"
      ]
     },
     "metadata": {
      "needs_background": "light"
     },
     "output_type": "display_data"
    }
   ],
   "source": [
    "plt.plot(cnn_history.history['loss'], color='b', label=\"Training loss\")\n",
    "plt.legend(loc='best', shadow=True)"
   ]
  },
  {
   "cell_type": "code",
   "execution_count": 87,
   "metadata": {
    "colab": {
     "base_uri": "https://localhost:8080/",
     "height": 34
    },
    "execution": {
     "iopub.execute_input": "2022-10-14T20:22:19.584546Z",
     "iopub.status.busy": "2022-10-14T20:22:19.583981Z",
     "iopub.status.idle": "2022-10-14T20:22:19.592497Z",
     "shell.execute_reply": "2022-10-14T20:22:19.591369Z",
     "shell.execute_reply.started": "2022-10-14T20:22:19.584508Z"
    },
    "id": "MA7rRK0bq58P",
    "outputId": "258fab5c-3c26-4faa-9b10-d27a179e01d4"
   },
   "outputs": [
    {
     "name": "stdout",
     "output_type": "stream",
     "text": [
      "Train set shape (214200, 3, 11, 1)\n"
     ]
    }
   ],
   "source": [
    "#CNN-LSTM for Time Series Forecasting\n",
    "\n",
    "#Reshape from [samples, timesteps, features] into [samples, subsequences, timesteps, features]\n",
    "\n",
    "subsequences = 3\n",
    "timesteps = X_train.shape[1]//subsequences\n",
    "X_train_series_sub = X_train.reshape((X_train.shape[0], subsequences, timesteps, 1))\n",
    "print('Train set shape', X_train_series_sub.shape)\n"
   ]
  },
  {
   "cell_type": "code",
   "execution_count": 88,
   "metadata": {
    "colab": {
     "base_uri": "https://localhost:8080/",
     "height": 319
    },
    "execution": {
     "iopub.execute_input": "2022-10-14T20:22:25.966047Z",
     "iopub.status.busy": "2022-10-14T20:22:25.965127Z",
     "iopub.status.idle": "2022-10-14T20:22:26.079859Z",
     "shell.execute_reply": "2022-10-14T20:22:26.078807Z",
     "shell.execute_reply.started": "2022-10-14T20:22:25.966000Z"
    },
    "id": "-a-QOkIUsmVb",
    "outputId": "34cdbb27-f821-4a32-f438-789e31f1eccd"
   },
   "outputs": [
    {
     "name": "stdout",
     "output_type": "stream",
     "text": [
      "Model: \"sequential_18\"\n",
      "_________________________________________________________________\n",
      "Layer (type)                 Output Shape              Param #   \n",
      "=================================================================\n",
      "time_distributed (TimeDistri (None, None, 11, 64)      128       \n",
      "_________________________________________________________________\n",
      "time_distributed_1 (TimeDist (None, None, 5, 64)       0         \n",
      "_________________________________________________________________\n",
      "time_distributed_2 (TimeDist (None, None, 320)         0         \n",
      "_________________________________________________________________\n",
      "lstm_2 (LSTM)                (None, 50)                74200     \n",
      "_________________________________________________________________\n",
      "dense_32 (Dense)             (None, 1)                 51        \n",
      "=================================================================\n",
      "Total params: 74,379\n",
      "Trainable params: 74,379\n",
      "Non-trainable params: 0\n",
      "_________________________________________________________________\n"
     ]
    }
   ],
   "source": [
    "model_cnn_lstm = Sequential()\n",
    "model_cnn_lstm.add(TimeDistributed(Conv1D(filters=64, kernel_size=1, activation='relu'), input_shape=(None, X_train_series_sub.shape[2], X_train_series_sub.shape[3])))\n",
    "model_cnn_lstm.add(TimeDistributed(MaxPooling1D(pool_size=2)))\n",
    "model_cnn_lstm.add(TimeDistributed(Flatten()))\n",
    "model_cnn_lstm.add(LSTM(50, activation='relu'))\n",
    "model_cnn_lstm.add(Dense(1))\n",
    "model_cnn_lstm.compile(loss='mse', optimizer=adam)\n",
    "model_cnn_lstm.summary()"
   ]
  },
  {
   "cell_type": "code",
   "execution_count": 90,
   "metadata": {
    "colab": {
     "base_uri": "https://localhost:8080/",
     "height": 353
    },
    "execution": {
     "iopub.execute_input": "2022-10-14T20:23:16.554617Z",
     "iopub.status.busy": "2022-10-14T20:23:16.554255Z",
     "iopub.status.idle": "2022-10-14T20:33:00.201132Z",
     "shell.execute_reply": "2022-10-14T20:33:00.200210Z",
     "shell.execute_reply.started": "2022-10-14T20:23:16.554588Z"
    },
    "id": "eeD2-zd7rjSe",
    "outputId": "1834d9df-cff6-4f99-d61d-7666c8a668ee"
   },
   "outputs": [
    {
     "name": "stdout",
     "output_type": "stream",
     "text": [
      "Epoch 1/10\n",
      "6694/6694 - 58s - loss: 21.6321\n",
      "Epoch 2/10\n",
      "6694/6694 - 58s - loss: 24.5417\n",
      "Epoch 3/10\n",
      "6694/6694 - 59s - loss: 20.4160\n",
      "Epoch 4/10\n",
      "6694/6694 - 58s - loss: 26.4020\n",
      "Epoch 5/10\n",
      "6694/6694 - 58s - loss: 25.3768\n",
      "Epoch 6/10\n",
      "6694/6694 - 59s - loss: 26.1812\n",
      "Epoch 7/10\n",
      "6694/6694 - 58s - loss: 25.8972\n",
      "Epoch 8/10\n",
      "6694/6694 - 58s - loss: 22.1981\n",
      "Epoch 9/10\n",
      "6694/6694 - 59s - loss: 20.6932\n",
      "Epoch 10/10\n",
      "6694/6694 - 58s - loss: 24.7635\n"
     ]
    }
   ],
   "source": [
    "cnn_lstm_history = model_cnn_lstm.fit(X_train_series_sub, y_train, epochs=10, verbose=2)"
   ]
  },
  {
   "cell_type": "code",
   "execution_count": 95,
   "metadata": {
    "colab": {
     "base_uri": "https://localhost:8080/",
     "height": 284
    },
    "execution": {
     "iopub.execute_input": "2022-10-14T20:36:17.465208Z",
     "iopub.status.busy": "2022-10-14T20:36:17.464833Z",
     "iopub.status.idle": "2022-10-14T20:36:17.667034Z",
     "shell.execute_reply": "2022-10-14T20:36:17.666070Z",
     "shell.execute_reply.started": "2022-10-14T20:36:17.465154Z"
    },
    "id": "26gU1CaAtabC",
    "outputId": "1229bbb3-3a6d-4c2d-d06b-49dfebf071c9"
   },
   "outputs": [
    {
     "data": {
      "text/plain": [
       "<matplotlib.legend.Legend at 0x7f166c13ea90>"
      ]
     },
     "execution_count": 95,
     "metadata": {},
     "output_type": "execute_result"
    },
    {
     "data": {
      "image/png": "[encoded data removed]",
      "text/plain": [
       "<Figure size 432x288 with 1 Axes>"
      ]
     },
     "metadata": {
      "needs_background": "light"
     },
     "output_type": "display_data"
    }
   ],
   "source": [
    "plt.plot(cnn_lstm_history.history['loss'], color='b', label=\"Training loss\")\n",
    "plt.legend(loc='best', shadow=True)"
   ]
  },
  {
   "cell_type": "code",
   "execution_count": 96,
   "metadata": {
    "colab": {
     "base_uri": "https://localhost:8080/",
     "height": 730
    },
    "execution": {
     "iopub.execute_input": "2022-10-14T20:36:21.483360Z",
     "iopub.status.busy": "2022-10-14T20:36:21.482994Z",
     "iopub.status.idle": "2022-10-14T20:36:22.010624Z",
     "shell.execute_reply": "2022-10-14T20:36:22.009552Z",
     "shell.execute_reply.started": "2022-10-14T20:36:21.483329Z"
    },
    "id": "YUq4ZRoktgcc",
    "outputId": "c2334c15-c9a0-49ff-fa7d-532913396215"
   },
   "outputs": [
    {
     "data": {
      "image/png": "[encoded data removed]",
      "text/plain": [
       "<Figure size 1584x864 with 4 Axes>"
      ]
     },
     "metadata": {
      "needs_background": "light"
     },
     "output_type": "display_data"
    }
   ],
   "source": [
    "#Comparing models\n",
    "\n",
    "fig, axes = plt.subplots(2, 2, sharex=True, sharey=True,figsize=(22,12))\n",
    "ax1, ax2 = axes[0]\n",
    "ax3, ax4 = axes[1]\n",
    "\n",
    "ax1.plot(history_mlp.history['loss'], label='Train loss')\n",
    "ax1.legend(loc='best')\n",
    "ax1.set_title('MLP')\n",
    "ax1.set_xlabel('Epochs')\n",
    "ax1.set_ylabel('MSE')\n",
    "\n",
    "ax2.plot(cnn_history.history['loss'], label='Train loss')\n",
    "ax2.legend(loc='best')\n",
    "ax2.set_title('CNN')\n",
    "ax2.set_xlabel('Epochs')\n",
    "ax2.set_ylabel('MSE')\n",
    "\n",
    "ax3.plot(history_lstm.history['loss'], label='Train loss')\n",
    "ax3.legend(loc='best')\n",
    "ax3.set_title('LSTM')\n",
    "ax3.set_xlabel('Epochs')\n",
    "ax3.set_ylabel('MSE')\n",
    "\n",
    "ax4.plot(cnn_lstm_history.history['loss'], label='Train loss')\n",
    "ax4.legend(loc='best')\n",
    "ax4.set_title('CNN-LSTM')\n",
    "ax4.set_xlabel('Epochs')\n",
    "ax4.set_ylabel('MSE')\n",
    "\n",
    "plt.show()"
   ]
  }
 ],
 "metadata": {
  "accelerator": "GPU",
  "colab": {
   "provenance": []
  },
  "kernelspec": {
   "display_name": "Python 3 (ipykernel)",
   "language": "python",
   "name": "python3"
  },
  "language_info": {
   "codemirror_mode": {
    "name": "ipython",
    "version": 3
   },
   "file_extension": ".py",
   "mimetype": "text/x-python",
   "name": "python",
   "nbconvert_exporter": "python",
   "pygments_lexer": "ipython3",
   "version": "3.9.12"
  }
 },
 "nbformat": 4,
 "nbformat_minor": 4
}
